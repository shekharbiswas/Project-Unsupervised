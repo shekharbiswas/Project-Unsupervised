{
  "cells": [
    {
      "cell_type": "code",
      "execution_count": 40,
      "metadata": {
        "colab": {
          "base_uri": "https://localhost:8080/"
        },
        "id": "EHCgmNMZ10qK",
        "outputId": "a31b0a86-d55e-4a08-9592-fb53ba1645b6"
      },
      "outputs": [],
      "source": [
        "import numpy as np\n",
        "import pandas as pd"
      ]
    },
    {
      "cell_type": "code",
      "execution_count": 41,
      "metadata": {
        "colab": {
          "base_uri": "https://localhost:8080/",
          "height": 1000
        },
        "id": "DDAP6JD53Mo2",
        "outputId": "df78e182-7647-456c-c5a8-940de5ba85bb"
      },
      "outputs": [
        {
          "data": {
            "text/html": [
              "<div>\n",
              "<style scoped>\n",
              "    .dataframe tbody tr th:only-of-type {\n",
              "        vertical-align: middle;\n",
              "    }\n",
              "\n",
              "    .dataframe tbody tr th {\n",
              "        vertical-align: top;\n",
              "    }\n",
              "\n",
              "    .dataframe thead th {\n",
              "        text-align: right;\n",
              "    }\n",
              "</style>\n",
              "<table border=\"1\" class=\"dataframe\">\n",
              "  <thead>\n",
              "    <tr style=\"text-align: right;\">\n",
              "      <th></th>\n",
              "      <th>Are you self-employed?</th>\n",
              "      <th>How many employees does your company or organization have?</th>\n",
              "      <th>Is your employer primarily a tech company/organization?</th>\n",
              "      <th>Is your primary role within your company related to tech/IT?</th>\n",
              "      <th>Does your employer provide mental health benefits as part of healthcare coverage?</th>\n",
              "      <th>Do you know the options for mental health care available under your employer-provided coverage?</th>\n",
              "      <th>Has your employer ever formally discussed mental health (for example, as part of a wellness campaign or other official communication)?</th>\n",
              "      <th>Does your employer offer resources to learn more about mental health concerns and options for seeking help?</th>\n",
              "      <th>Is your anonymity protected if you choose to take advantage of mental health or substance abuse treatment resources provided by your employer?</th>\n",
              "      <th>If a mental health issue prompted you to request a medical leave from work, asking for that leave would be:</th>\n",
              "      <th>...</th>\n",
              "      <th>If you have a mental health issue, do you feel that it interferes with your work when being treated effectively?</th>\n",
              "      <th>If you have a mental health issue, do you feel that it interferes with your work when NOT being treated effectively?</th>\n",
              "      <th>What is your age?</th>\n",
              "      <th>What is your gender?</th>\n",
              "      <th>What country do you live in?</th>\n",
              "      <th>What US state or territory do you live in?</th>\n",
              "      <th>What country do you work in?</th>\n",
              "      <th>What US state or territory do you work in?</th>\n",
              "      <th>Which of the following best describes your work position?</th>\n",
              "      <th>Do you work remotely?</th>\n",
              "    </tr>\n",
              "  </thead>\n",
              "  <tbody>\n",
              "    <tr>\n",
              "      <th>0</th>\n",
              "      <td>0</td>\n",
              "      <td>26-100</td>\n",
              "      <td>1.0</td>\n",
              "      <td>NaN</td>\n",
              "      <td>Not eligible for coverage / N/A</td>\n",
              "      <td>NaN</td>\n",
              "      <td>No</td>\n",
              "      <td>No</td>\n",
              "      <td>I don't know</td>\n",
              "      <td>Very easy</td>\n",
              "      <td>...</td>\n",
              "      <td>Not applicable to me</td>\n",
              "      <td>Not applicable to me</td>\n",
              "      <td>39</td>\n",
              "      <td>Male</td>\n",
              "      <td>United Kingdom</td>\n",
              "      <td>NaN</td>\n",
              "      <td>United Kingdom</td>\n",
              "      <td>NaN</td>\n",
              "      <td>Back-end Developer</td>\n",
              "      <td>Sometimes</td>\n",
              "    </tr>\n",
              "    <tr>\n",
              "      <th>1</th>\n",
              "      <td>0</td>\n",
              "      <td>Jun-25</td>\n",
              "      <td>1.0</td>\n",
              "      <td>NaN</td>\n",
              "      <td>No</td>\n",
              "      <td>Yes</td>\n",
              "      <td>Yes</td>\n",
              "      <td>Yes</td>\n",
              "      <td>Yes</td>\n",
              "      <td>Somewhat easy</td>\n",
              "      <td>...</td>\n",
              "      <td>Rarely</td>\n",
              "      <td>Sometimes</td>\n",
              "      <td>29</td>\n",
              "      <td>male</td>\n",
              "      <td>United States of America</td>\n",
              "      <td>Illinois</td>\n",
              "      <td>United States of America</td>\n",
              "      <td>Illinois</td>\n",
              "      <td>Back-end Developer|Front-end Developer</td>\n",
              "      <td>Never</td>\n",
              "    </tr>\n",
              "    <tr>\n",
              "      <th>2</th>\n",
              "      <td>0</td>\n",
              "      <td>Jun-25</td>\n",
              "      <td>1.0</td>\n",
              "      <td>NaN</td>\n",
              "      <td>No</td>\n",
              "      <td>NaN</td>\n",
              "      <td>No</td>\n",
              "      <td>No</td>\n",
              "      <td>I don't know</td>\n",
              "      <td>Neither easy nor difficult</td>\n",
              "      <td>...</td>\n",
              "      <td>Not applicable to me</td>\n",
              "      <td>Not applicable to me</td>\n",
              "      <td>38</td>\n",
              "      <td>Male</td>\n",
              "      <td>United Kingdom</td>\n",
              "      <td>NaN</td>\n",
              "      <td>United Kingdom</td>\n",
              "      <td>NaN</td>\n",
              "      <td>Back-end Developer</td>\n",
              "      <td>Always</td>\n",
              "    </tr>\n",
              "    <tr>\n",
              "      <th>3</th>\n",
              "      <td>1</td>\n",
              "      <td>NaN</td>\n",
              "      <td>NaN</td>\n",
              "      <td>NaN</td>\n",
              "      <td>NaN</td>\n",
              "      <td>NaN</td>\n",
              "      <td>NaN</td>\n",
              "      <td>NaN</td>\n",
              "      <td>NaN</td>\n",
              "      <td>NaN</td>\n",
              "      <td>...</td>\n",
              "      <td>Sometimes</td>\n",
              "      <td>Sometimes</td>\n",
              "      <td>43</td>\n",
              "      <td>male</td>\n",
              "      <td>United Kingdom</td>\n",
              "      <td>NaN</td>\n",
              "      <td>United Kingdom</td>\n",
              "      <td>NaN</td>\n",
              "      <td>Supervisor/Team Lead</td>\n",
              "      <td>Sometimes</td>\n",
              "    </tr>\n",
              "    <tr>\n",
              "      <th>4</th>\n",
              "      <td>0</td>\n",
              "      <td>Jun-25</td>\n",
              "      <td>0.0</td>\n",
              "      <td>1.0</td>\n",
              "      <td>Yes</td>\n",
              "      <td>Yes</td>\n",
              "      <td>No</td>\n",
              "      <td>No</td>\n",
              "      <td>No</td>\n",
              "      <td>Neither easy nor difficult</td>\n",
              "      <td>...</td>\n",
              "      <td>Sometimes</td>\n",
              "      <td>Sometimes</td>\n",
              "      <td>43</td>\n",
              "      <td>Female</td>\n",
              "      <td>United States of America</td>\n",
              "      <td>Illinois</td>\n",
              "      <td>United States of America</td>\n",
              "      <td>Illinois</td>\n",
              "      <td>Executive Leadership|Supervisor/Team Lead|Dev ...</td>\n",
              "      <td>Sometimes</td>\n",
              "    </tr>\n",
              "    <tr>\n",
              "      <th>...</th>\n",
              "      <td>...</td>\n",
              "      <td>...</td>\n",
              "      <td>...</td>\n",
              "      <td>...</td>\n",
              "      <td>...</td>\n",
              "      <td>...</td>\n",
              "      <td>...</td>\n",
              "      <td>...</td>\n",
              "      <td>...</td>\n",
              "      <td>...</td>\n",
              "      <td>...</td>\n",
              "      <td>...</td>\n",
              "      <td>...</td>\n",
              "      <td>...</td>\n",
              "      <td>...</td>\n",
              "      <td>...</td>\n",
              "      <td>...</td>\n",
              "      <td>...</td>\n",
              "      <td>...</td>\n",
              "      <td>...</td>\n",
              "      <td>...</td>\n",
              "    </tr>\n",
              "    <tr>\n",
              "      <th>1428</th>\n",
              "      <td>1</td>\n",
              "      <td>NaN</td>\n",
              "      <td>NaN</td>\n",
              "      <td>NaN</td>\n",
              "      <td>NaN</td>\n",
              "      <td>NaN</td>\n",
              "      <td>NaN</td>\n",
              "      <td>NaN</td>\n",
              "      <td>NaN</td>\n",
              "      <td>NaN</td>\n",
              "      <td>...</td>\n",
              "      <td>Not applicable to me</td>\n",
              "      <td>Not applicable to me</td>\n",
              "      <td>34</td>\n",
              "      <td>Female</td>\n",
              "      <td>United States of America</td>\n",
              "      <td>New York</td>\n",
              "      <td>United States of America</td>\n",
              "      <td>New York</td>\n",
              "      <td>Other</td>\n",
              "      <td>Sometimes</td>\n",
              "    </tr>\n",
              "    <tr>\n",
              "      <th>1429</th>\n",
              "      <td>1</td>\n",
              "      <td>NaN</td>\n",
              "      <td>NaN</td>\n",
              "      <td>NaN</td>\n",
              "      <td>NaN</td>\n",
              "      <td>NaN</td>\n",
              "      <td>NaN</td>\n",
              "      <td>NaN</td>\n",
              "      <td>NaN</td>\n",
              "      <td>NaN</td>\n",
              "      <td>...</td>\n",
              "      <td>Sometimes</td>\n",
              "      <td>Often</td>\n",
              "      <td>56</td>\n",
              "      <td>MALE</td>\n",
              "      <td>United States of America</td>\n",
              "      <td>California</td>\n",
              "      <td>Afghanistan</td>\n",
              "      <td>NaN</td>\n",
              "      <td>Support</td>\n",
              "      <td>Sometimes</td>\n",
              "    </tr>\n",
              "    <tr>\n",
              "      <th>1430</th>\n",
              "      <td>0</td>\n",
              "      <td>100-500</td>\n",
              "      <td>1.0</td>\n",
              "      <td>NaN</td>\n",
              "      <td>Yes</td>\n",
              "      <td>Yes</td>\n",
              "      <td>Yes</td>\n",
              "      <td>Yes</td>\n",
              "      <td>I don't know</td>\n",
              "      <td>Somewhat difficult</td>\n",
              "      <td>...</td>\n",
              "      <td>Rarely</td>\n",
              "      <td>Sometimes</td>\n",
              "      <td>52</td>\n",
              "      <td>Male</td>\n",
              "      <td>United States of America</td>\n",
              "      <td>Georgia</td>\n",
              "      <td>United States of America</td>\n",
              "      <td>Georgia</td>\n",
              "      <td>Back-end Developer</td>\n",
              "      <td>Sometimes</td>\n",
              "    </tr>\n",
              "    <tr>\n",
              "      <th>1431</th>\n",
              "      <td>0</td>\n",
              "      <td>100-500</td>\n",
              "      <td>0.0</td>\n",
              "      <td>1.0</td>\n",
              "      <td>I don't know</td>\n",
              "      <td>I am not sure</td>\n",
              "      <td>No</td>\n",
              "      <td>Yes</td>\n",
              "      <td>I don't know</td>\n",
              "      <td>Somewhat difficult</td>\n",
              "      <td>...</td>\n",
              "      <td>Sometimes</td>\n",
              "      <td>Often</td>\n",
              "      <td>30</td>\n",
              "      <td>Female</td>\n",
              "      <td>United States of America</td>\n",
              "      <td>Nebraska</td>\n",
              "      <td>United States of America</td>\n",
              "      <td>Nebraska</td>\n",
              "      <td>DevOps/SysAdmin</td>\n",
              "      <td>Sometimes</td>\n",
              "    </tr>\n",
              "    <tr>\n",
              "      <th>1432</th>\n",
              "      <td>0</td>\n",
              "      <td>100-500</td>\n",
              "      <td>1.0</td>\n",
              "      <td>NaN</td>\n",
              "      <td>Yes</td>\n",
              "      <td>No</td>\n",
              "      <td>No</td>\n",
              "      <td>No</td>\n",
              "      <td>I don't know</td>\n",
              "      <td>Very difficult</td>\n",
              "      <td>...</td>\n",
              "      <td>Not applicable to me</td>\n",
              "      <td>Often</td>\n",
              "      <td>25</td>\n",
              "      <td>non-binary</td>\n",
              "      <td>Canada</td>\n",
              "      <td>NaN</td>\n",
              "      <td>Canada</td>\n",
              "      <td>NaN</td>\n",
              "      <td>Other</td>\n",
              "      <td>Sometimes</td>\n",
              "    </tr>\n",
              "  </tbody>\n",
              "</table>\n",
              "<p>1433 rows × 63 columns</p>\n",
              "</div>"
            ],
            "text/plain": [
              "      Are you self-employed?  \\\n",
              "0                          0   \n",
              "1                          0   \n",
              "2                          0   \n",
              "3                          1   \n",
              "4                          0   \n",
              "...                      ...   \n",
              "1428                       1   \n",
              "1429                       1   \n",
              "1430                       0   \n",
              "1431                       0   \n",
              "1432                       0   \n",
              "\n",
              "     How many employees does your company or organization have?  \\\n",
              "0                                                26-100           \n",
              "1                                                Jun-25           \n",
              "2                                                Jun-25           \n",
              "3                                                   NaN           \n",
              "4                                                Jun-25           \n",
              "...                                                 ...           \n",
              "1428                                                NaN           \n",
              "1429                                                NaN           \n",
              "1430                                            100-500           \n",
              "1431                                            100-500           \n",
              "1432                                            100-500           \n",
              "\n",
              "      Is your employer primarily a tech company/organization?  \\\n",
              "0                                                   1.0         \n",
              "1                                                   1.0         \n",
              "2                                                   1.0         \n",
              "3                                                   NaN         \n",
              "4                                                   0.0         \n",
              "...                                                 ...         \n",
              "1428                                                NaN         \n",
              "1429                                                NaN         \n",
              "1430                                                1.0         \n",
              "1431                                                0.0         \n",
              "1432                                                1.0         \n",
              "\n",
              "      Is your primary role within your company related to tech/IT?  \\\n",
              "0                                                   NaN              \n",
              "1                                                   NaN              \n",
              "2                                                   NaN              \n",
              "3                                                   NaN              \n",
              "4                                                   1.0              \n",
              "...                                                 ...              \n",
              "1428                                                NaN              \n",
              "1429                                                NaN              \n",
              "1430                                                NaN              \n",
              "1431                                                1.0              \n",
              "1432                                                NaN              \n",
              "\n",
              "     Does your employer provide mental health benefits as part of healthcare coverage?  \\\n",
              "0                       Not eligible for coverage / N/A                                  \n",
              "1                                                    No                                  \n",
              "2                                                    No                                  \n",
              "3                                                   NaN                                  \n",
              "4                                                   Yes                                  \n",
              "...                                                 ...                                  \n",
              "1428                                                NaN                                  \n",
              "1429                                                NaN                                  \n",
              "1430                                                Yes                                  \n",
              "1431                                       I don't know                                  \n",
              "1432                                                Yes                                  \n",
              "\n",
              "     Do you know the options for mental health care available under your employer-provided coverage?  \\\n",
              "0                                                   NaN                                                \n",
              "1                                                   Yes                                                \n",
              "2                                                   NaN                                                \n",
              "3                                                   NaN                                                \n",
              "4                                                   Yes                                                \n",
              "...                                                 ...                                                \n",
              "1428                                                NaN                                                \n",
              "1429                                                NaN                                                \n",
              "1430                                                Yes                                                \n",
              "1431                                      I am not sure                                                \n",
              "1432                                                 No                                                \n",
              "\n",
              "     Has your employer ever formally discussed mental health (for example, as part of a wellness campaign or other official communication)?  \\\n",
              "0                                                    No                                                                                       \n",
              "1                                                   Yes                                                                                       \n",
              "2                                                    No                                                                                       \n",
              "3                                                   NaN                                                                                       \n",
              "4                                                    No                                                                                       \n",
              "...                                                 ...                                                                                       \n",
              "1428                                                NaN                                                                                       \n",
              "1429                                                NaN                                                                                       \n",
              "1430                                                Yes                                                                                       \n",
              "1431                                                 No                                                                                       \n",
              "1432                                                 No                                                                                       \n",
              "\n",
              "     Does your employer offer resources to learn more about mental health concerns and options for seeking help?  \\\n",
              "0                                                    No                                                            \n",
              "1                                                   Yes                                                            \n",
              "2                                                    No                                                            \n",
              "3                                                   NaN                                                            \n",
              "4                                                    No                                                            \n",
              "...                                                 ...                                                            \n",
              "1428                                                NaN                                                            \n",
              "1429                                                NaN                                                            \n",
              "1430                                                Yes                                                            \n",
              "1431                                                Yes                                                            \n",
              "1432                                                 No                                                            \n",
              "\n",
              "     Is your anonymity protected if you choose to take advantage of mental health or substance abuse treatment resources provided by your employer?  \\\n",
              "0                                          I don't know                                                                                               \n",
              "1                                                   Yes                                                                                               \n",
              "2                                          I don't know                                                                                               \n",
              "3                                                   NaN                                                                                               \n",
              "4                                                    No                                                                                               \n",
              "...                                                 ...                                                                                               \n",
              "1428                                                NaN                                                                                               \n",
              "1429                                                NaN                                                                                               \n",
              "1430                                       I don't know                                                                                               \n",
              "1431                                       I don't know                                                                                               \n",
              "1432                                       I don't know                                                                                               \n",
              "\n",
              "     If a mental health issue prompted you to request a medical leave from work, asking for that leave would be:  \\\n",
              "0                                             Very easy                                                            \n",
              "1                                         Somewhat easy                                                            \n",
              "2                            Neither easy nor difficult                                                            \n",
              "3                                                   NaN                                                            \n",
              "4                            Neither easy nor difficult                                                            \n",
              "...                                                 ...                                                            \n",
              "1428                                                NaN                                                            \n",
              "1429                                                NaN                                                            \n",
              "1430                                 Somewhat difficult                                                            \n",
              "1431                                 Somewhat difficult                                                            \n",
              "1432                                     Very difficult                                                            \n",
              "\n",
              "      ...  \\\n",
              "0     ...   \n",
              "1     ...   \n",
              "2     ...   \n",
              "3     ...   \n",
              "4     ...   \n",
              "...   ...   \n",
              "1428  ...   \n",
              "1429  ...   \n",
              "1430  ...   \n",
              "1431  ...   \n",
              "1432  ...   \n",
              "\n",
              "     If you have a mental health issue, do you feel that it interferes with your work when being treated effectively?  \\\n",
              "0                                  Not applicable to me                                                                 \n",
              "1                                                Rarely                                                                 \n",
              "2                                  Not applicable to me                                                                 \n",
              "3                                             Sometimes                                                                 \n",
              "4                                             Sometimes                                                                 \n",
              "...                                                 ...                                                                 \n",
              "1428                               Not applicable to me                                                                 \n",
              "1429                                          Sometimes                                                                 \n",
              "1430                                             Rarely                                                                 \n",
              "1431                                          Sometimes                                                                 \n",
              "1432                               Not applicable to me                                                                 \n",
              "\n",
              "     If you have a mental health issue, do you feel that it interferes with your work when NOT being treated effectively?  \\\n",
              "0                                  Not applicable to me                                                                     \n",
              "1                                             Sometimes                                                                     \n",
              "2                                  Not applicable to me                                                                     \n",
              "3                                             Sometimes                                                                     \n",
              "4                                             Sometimes                                                                     \n",
              "...                                                 ...                                                                     \n",
              "1428                               Not applicable to me                                                                     \n",
              "1429                                              Often                                                                     \n",
              "1430                                          Sometimes                                                                     \n",
              "1431                                              Often                                                                     \n",
              "1432                                              Often                                                                     \n",
              "\n",
              "     What is your age? What is your gender? What country do you live in?  \\\n",
              "0                   39                 Male               United Kingdom   \n",
              "1                   29                 male     United States of America   \n",
              "2                   38                Male                United Kingdom   \n",
              "3                   43                 male               United Kingdom   \n",
              "4                   43               Female     United States of America   \n",
              "...                ...                  ...                          ...   \n",
              "1428                34              Female      United States of America   \n",
              "1429                56                 MALE     United States of America   \n",
              "1430                52                 Male     United States of America   \n",
              "1431                30               Female     United States of America   \n",
              "1432                25           non-binary                       Canada   \n",
              "\n",
              "     What US state or territory do you live in?  What country do you work in?  \\\n",
              "0                                           NaN                United Kingdom   \n",
              "1                                      Illinois      United States of America   \n",
              "2                                           NaN                United Kingdom   \n",
              "3                                           NaN                United Kingdom   \n",
              "4                                      Illinois      United States of America   \n",
              "...                                         ...                           ...   \n",
              "1428                                   New York      United States of America   \n",
              "1429                                 California                   Afghanistan   \n",
              "1430                                    Georgia      United States of America   \n",
              "1431                                   Nebraska      United States of America   \n",
              "1432                                        NaN                        Canada   \n",
              "\n",
              "     What US state or territory do you work in?  \\\n",
              "0                                           NaN   \n",
              "1                                      Illinois   \n",
              "2                                           NaN   \n",
              "3                                           NaN   \n",
              "4                                      Illinois   \n",
              "...                                         ...   \n",
              "1428                                   New York   \n",
              "1429                                        NaN   \n",
              "1430                                    Georgia   \n",
              "1431                                   Nebraska   \n",
              "1432                                        NaN   \n",
              "\n",
              "     Which of the following best describes your work position?  \\\n",
              "0                                    Back-end Developer          \n",
              "1                Back-end Developer|Front-end Developer          \n",
              "2                                    Back-end Developer          \n",
              "3                                  Supervisor/Team Lead          \n",
              "4     Executive Leadership|Supervisor/Team Lead|Dev ...          \n",
              "...                                                 ...          \n",
              "1428                                              Other          \n",
              "1429                                            Support          \n",
              "1430                                 Back-end Developer          \n",
              "1431                                    DevOps/SysAdmin          \n",
              "1432                                              Other          \n",
              "\n",
              "     Do you work remotely?  \n",
              "0                Sometimes  \n",
              "1                    Never  \n",
              "2                   Always  \n",
              "3                Sometimes  \n",
              "4                Sometimes  \n",
              "...                    ...  \n",
              "1428             Sometimes  \n",
              "1429             Sometimes  \n",
              "1430             Sometimes  \n",
              "1431             Sometimes  \n",
              "1432             Sometimes  \n",
              "\n",
              "[1433 rows x 63 columns]"
            ]
          },
          "execution_count": 41,
          "metadata": {},
          "output_type": "execute_result"
        }
      ],
      "source": [
        "df = pd.read_csv('https://raw.githubusercontent.com/shekharbiswas/MHC/main/mental-heath-in-tech-2016_20161114.csv')\n",
        "df"
      ]
    },
    {
      "cell_type": "code",
      "execution_count": 58,
      "metadata": {},
      "outputs": [],
      "source": [
        "old_names = df.columns # Just to be sure to be able to look that up\n",
        "renamed_columns = ['self_employed', 'number_of_employees', 'company_in_tech', 'role_in_tech', 'company_mental_health',\n",
        "                  'company_mental_health_options_awareness', 'company_mental_health_discussion', 'company_mental_health_resources', \n",
        "                   'company_mental_health_anonymity','company_mental_health_leave', 'company_mental_health_discussion_impact', \n",
        "                   'company_physical_health_discussion_negative_impact', 'mental_health_coworkers_discussion',\n",
        "                   'mental_health_supervisor_discussion', 'company_mental_health_serious', \n",
        "                   'company_mental_health_coworker_discussion_negative_impact', 'mental_health_coverage', 'mental_health_online_resources',\n",
        "                  'mental_health_diagnosed_reveal', 'mental_health_diagnosed_reveal_impact', 'mental_health_diagnosed_coworker_reveal', \n",
        "                   'mental_health_diagnosed_coworker_reveal_impact_negative','mental_health_productivity_impact', \n",
        "                   'mental_health_productivity_impact_percent', 'previous_companies', 'previous_companies_mental_health_benefits', \n",
        "                   'previous_companies_mental_health_benefits_awareness','previous_companies_mental_health_discussion', \n",
        "                   'previous_companies_mental_health_resources', 'previous_companies_mental_health_anonymity', \n",
        "                   'previous_companies_mental_health_discussion_negative_impact', \n",
        "                   'previous_companies_physical_health_discussion_negative_impact',\n",
        "                  'previous_companies_mental_coworkers_health_discussion', 'previous_companies_mental_supervisor_health_discussion', \n",
        "                   'previous_company_mental_health_serious', 'previous_company_mental_health_coworker_discussion_negative_impact',\n",
        "                  'future_company_physical_health_interview', 'why/why_not', 'future_company_mental_health_interview', 'why/why_not2', \n",
        "                   'mental_health_negative_impact_career', 'mental_health_negative_view_coworkers',\n",
        "                  'mental_health_reveal_family&friends', 'previous_and_current_company_mental_health_bad_response_experienced', \n",
        "                   'previous_and_current_company_mental_health_bad_response_experienced_others', 'mental_health_family_history',\n",
        "                  'mental_health_disorder_past', 'mental_health_disorder_current', 'yes:what_diagnosis', 'maybe:what_diagnosis', \n",
        "                   'mental_health_disorder_professional_diagnosis','yes:condition_diagnosed', 'mental_health_proffesional_treatment', \n",
        "                   'mental_health_treatment_affects_work', 'mental_health_no_treatment_affects_work','age', 'sex', 'country_live', \n",
        "                   'live_us_territory', 'country_work', 'work_us_territory', 'work_position', 'remote']\n",
        "    \n",
        "df.columns = renamed_columns"
      ]
    },
    {
      "cell_type": "code",
      "execution_count": 59,
      "metadata": {},
      "outputs": [
        {
          "name": "stdout",
          "output_type": "stream",
          "text": [
            "why/why_not\n",
            "why/why_not2\n",
            "yes:what_diagnosis\n",
            "maybe:what_diagnosis\n",
            "yes:condition_diagnosed\n",
            "age\n",
            "sex\n",
            "country_live\n",
            "live_us_territory\n",
            "country_work\n",
            "work_us_territory\n",
            "work_position\n"
          ]
        }
      ],
      "source": [
        "unclear_data_columns = []\n",
        "for column in df.columns:\n",
        "    if len(df[column].value_counts(dropna=False)) > 10: # If the column has more than 10 unique entries, the column might be unqualified for being used in our analysis\n",
        "        unclear_data_columns.append(column)\n",
        "\n",
        "        \n",
        "for column in unclear_data_columns:\n",
        "    print(column)"
      ]
    },
    {
      "cell_type": "code",
      "execution_count": 60,
      "metadata": {},
      "outputs": [],
      "source": [
        "survey_data = df.drop([\"why/why_not\", \"why/why_not2\", \"yes:what_diagnosis\", \"maybe:what_diagnosis\", \"yes:condition_diagnosed\", \"live_us_territory\", \"work_us_territory\", \"country_live\", \"country_work\", \"work_position\"], axis = 1)"
      ]
    },
    {
      "cell_type": "code",
      "execution_count": 61,
      "metadata": {},
      "outputs": [],
      "source": [
        "mean_age = survey_data[(survey_data[\"age\"] >= 18) | (survey_data[\"age\"] <= 75)][\"age\"].mean()\n",
        "\n",
        "# Replace irregular age numbers with mean value\n",
        "survey_data[\"age\"].replace(to_replace = survey_data[(survey_data[\"age\"] < 18) | (survey_data[\"age\"] > 75)][\"age\"].tolist(), value = mean_age, inplace = True)"
      ]
    },
    {
      "cell_type": "code",
      "execution_count": 62,
      "metadata": {},
      "outputs": [],
      "source": [
        "survey_data[\"sex\"] = survey_data[\"sex\"].str.lower().str.strip()\n",
        "survey_data[\"sex\"].value_counts()\n",
        "\n",
        "male = ['Male', 'male', 'M', 'm', 'Cis Male', 'man', 'ostensibly male, unsure what that really means', 'Mail', 'Make', 'male (cis)', \n",
        "        'cis male', 'maile', 'Malr', 'Cis Man', 'Mal', 'msle', 'male.', 'sex is male', 'malr', 'cis man', 'mail' ]\n",
        "     \n",
        "f = ['Female', 'female', 'F', 'f', 'Woman', 'Femake', 'Female (cis)', 'cis female', 'woman', 'femail', \n",
        "     'cis-female/femme', 'i identify as female.', 'cis-woman', 'cisgender female', 'female (props for making this a freeform field, though)', \n",
        "     'female/woman', 'female assigned at birth' ]\n",
        "\n",
        "# Male and female\n",
        "survey_data[\"sex\"] = survey_data[\"sex\"].replace(male, 'male')\n",
        "survey_data[\"sex\"] = survey_data[\"sex\"].replace(f, 'f')\n",
        "\n",
        "# Other\n",
        "other = list(survey_data[\"sex\"].value_counts().index)[2:]\n",
        "survey_data[\"sex\"] = survey_data[\"sex\"].replace(other, 'other')"
      ]
    },
    {
      "cell_type": "code",
      "execution_count": 63,
      "metadata": {},
      "outputs": [
        {
          "name": "stdout",
          "output_type": "stream",
          "text": [
            "Dropped columns:\n",
            "role_in_tech\n",
            "mental_health_coverage\n",
            "mental_health_online_resources\n",
            "mental_health_diagnosed_reveal\n",
            "mental_health_diagnosed_reveal_impact\n",
            "mental_health_diagnosed_coworker_reveal\n",
            "mental_health_diagnosed_coworker_reveal_impact_negative\n",
            "mental_health_productivity_impact\n",
            "mental_health_productivity_impact_percent\n",
            "previous_and_current_company_mental_health_bad_response_experienced_others\n"
          ]
        }
      ],
      "source": [
        "# We have 1433 rows with many different features and missing values, so we drop all columns where half of the overall values are missing\n",
        "bad_column_numbers = (survey_data.isna().sum() >= survey_data.shape[0]/2).tolist()\n",
        "bad_column_columns = survey_data.columns[bad_column_numbers]\n",
        "print(\"Dropped columns:\")\n",
        "for column in bad_column_columns:\n",
        "    print(column)\n",
        "survey_data.drop(labels = bad_column_columns, axis = 1, inplace = True)"
      ]
    },
    {
      "cell_type": "code",
      "execution_count": 48,
      "metadata": {},
      "outputs": [],
      "source": [
        "import pandas as pd\n",
        "import numpy as np\n",
        "import seaborn as sns\n",
        "import matplotlib.pyplot as plt\n",
        "%matplotlib inline\n",
        "from sklearn.model_selection import train_test_split\n",
        "from sklearn.preprocessing import LabelEncoder\n",
        "from sklearn.impute import SimpleImputer\n",
        "from sklearn.cluster import KMeans\n",
        "import os"
      ]
    },
    {
      "cell_type": "code",
      "execution_count": 64,
      "metadata": {},
      "outputs": [],
      "source": [
        "# Replace nan values with mode\n",
        "imputer = SimpleImputer(missing_values=np.nan, strategy='most_frequent')\n",
        "imputer.fit(survey_data)\n",
        "survey_data = pd.DataFrame(data = imputer.transform(survey_data), columns = survey_data.columns)"
      ]
    },
    {
      "cell_type": "code",
      "execution_count": 65,
      "metadata": {},
      "outputs": [
        {
          "data": {
            "text/html": [
              "<div>\n",
              "<style scoped>\n",
              "    .dataframe tbody tr th:only-of-type {\n",
              "        vertical-align: middle;\n",
              "    }\n",
              "\n",
              "    .dataframe tbody tr th {\n",
              "        vertical-align: top;\n",
              "    }\n",
              "\n",
              "    .dataframe thead th {\n",
              "        text-align: right;\n",
              "    }\n",
              "</style>\n",
              "<table border=\"1\" class=\"dataframe\">\n",
              "  <thead>\n",
              "    <tr style=\"text-align: right;\">\n",
              "      <th></th>\n",
              "      <th>self_employed</th>\n",
              "      <th>number_of_employees</th>\n",
              "      <th>company_in_tech</th>\n",
              "      <th>company_mental_health</th>\n",
              "      <th>company_mental_health_options_awareness</th>\n",
              "      <th>company_mental_health_discussion</th>\n",
              "      <th>company_mental_health_resources</th>\n",
              "      <th>company_mental_health_anonymity</th>\n",
              "      <th>company_mental_health_leave</th>\n",
              "      <th>company_mental_health_discussion_impact</th>\n",
              "      <th>...</th>\n",
              "      <th>mental_health_family_history</th>\n",
              "      <th>mental_health_disorder_past</th>\n",
              "      <th>mental_health_disorder_current</th>\n",
              "      <th>mental_health_disorder_professional_diagnosis</th>\n",
              "      <th>mental_health_proffesional_treatment</th>\n",
              "      <th>mental_health_treatment_affects_work</th>\n",
              "      <th>mental_health_no_treatment_affects_work</th>\n",
              "      <th>age</th>\n",
              "      <th>sex</th>\n",
              "      <th>remote</th>\n",
              "    </tr>\n",
              "  </thead>\n",
              "  <tbody>\n",
              "    <tr>\n",
              "      <th>0</th>\n",
              "      <td>0</td>\n",
              "      <td>26-100</td>\n",
              "      <td>1.0</td>\n",
              "      <td>Not eligible for coverage / N/A</td>\n",
              "      <td>No</td>\n",
              "      <td>No</td>\n",
              "      <td>No</td>\n",
              "      <td>I don't know</td>\n",
              "      <td>Very easy</td>\n",
              "      <td>No</td>\n",
              "      <td>...</td>\n",
              "      <td>No</td>\n",
              "      <td>Yes</td>\n",
              "      <td>No</td>\n",
              "      <td>Yes</td>\n",
              "      <td>0</td>\n",
              "      <td>Not applicable to me</td>\n",
              "      <td>Not applicable to me</td>\n",
              "      <td>39.0</td>\n",
              "      <td>male</td>\n",
              "      <td>Sometimes</td>\n",
              "    </tr>\n",
              "    <tr>\n",
              "      <th>1</th>\n",
              "      <td>0</td>\n",
              "      <td>Jun-25</td>\n",
              "      <td>1.0</td>\n",
              "      <td>No</td>\n",
              "      <td>Yes</td>\n",
              "      <td>Yes</td>\n",
              "      <td>Yes</td>\n",
              "      <td>Yes</td>\n",
              "      <td>Somewhat easy</td>\n",
              "      <td>No</td>\n",
              "      <td>...</td>\n",
              "      <td>Yes</td>\n",
              "      <td>Yes</td>\n",
              "      <td>Yes</td>\n",
              "      <td>Yes</td>\n",
              "      <td>1</td>\n",
              "      <td>Rarely</td>\n",
              "      <td>Sometimes</td>\n",
              "      <td>29.0</td>\n",
              "      <td>male</td>\n",
              "      <td>Never</td>\n",
              "    </tr>\n",
              "    <tr>\n",
              "      <th>2</th>\n",
              "      <td>0</td>\n",
              "      <td>Jun-25</td>\n",
              "      <td>1.0</td>\n",
              "      <td>No</td>\n",
              "      <td>No</td>\n",
              "      <td>No</td>\n",
              "      <td>No</td>\n",
              "      <td>I don't know</td>\n",
              "      <td>Neither easy nor difficult</td>\n",
              "      <td>Maybe</td>\n",
              "      <td>...</td>\n",
              "      <td>No</td>\n",
              "      <td>Maybe</td>\n",
              "      <td>No</td>\n",
              "      <td>No</td>\n",
              "      <td>1</td>\n",
              "      <td>Not applicable to me</td>\n",
              "      <td>Not applicable to me</td>\n",
              "      <td>38.0</td>\n",
              "      <td>male</td>\n",
              "      <td>Always</td>\n",
              "    </tr>\n",
              "    <tr>\n",
              "      <th>3</th>\n",
              "      <td>1</td>\n",
              "      <td>26-100</td>\n",
              "      <td>1.0</td>\n",
              "      <td>Yes</td>\n",
              "      <td>No</td>\n",
              "      <td>No</td>\n",
              "      <td>No</td>\n",
              "      <td>I don't know</td>\n",
              "      <td>Somewhat easy</td>\n",
              "      <td>Maybe</td>\n",
              "      <td>...</td>\n",
              "      <td>No</td>\n",
              "      <td>Yes</td>\n",
              "      <td>Yes</td>\n",
              "      <td>Yes</td>\n",
              "      <td>1</td>\n",
              "      <td>Sometimes</td>\n",
              "      <td>Sometimes</td>\n",
              "      <td>43.0</td>\n",
              "      <td>male</td>\n",
              "      <td>Sometimes</td>\n",
              "    </tr>\n",
              "    <tr>\n",
              "      <th>4</th>\n",
              "      <td>0</td>\n",
              "      <td>Jun-25</td>\n",
              "      <td>0.0</td>\n",
              "      <td>Yes</td>\n",
              "      <td>Yes</td>\n",
              "      <td>No</td>\n",
              "      <td>No</td>\n",
              "      <td>No</td>\n",
              "      <td>Neither easy nor difficult</td>\n",
              "      <td>Yes</td>\n",
              "      <td>...</td>\n",
              "      <td>Yes</td>\n",
              "      <td>Yes</td>\n",
              "      <td>Yes</td>\n",
              "      <td>Yes</td>\n",
              "      <td>1</td>\n",
              "      <td>Sometimes</td>\n",
              "      <td>Sometimes</td>\n",
              "      <td>43.0</td>\n",
              "      <td>f</td>\n",
              "      <td>Sometimes</td>\n",
              "    </tr>\n",
              "    <tr>\n",
              "      <th>...</th>\n",
              "      <td>...</td>\n",
              "      <td>...</td>\n",
              "      <td>...</td>\n",
              "      <td>...</td>\n",
              "      <td>...</td>\n",
              "      <td>...</td>\n",
              "      <td>...</td>\n",
              "      <td>...</td>\n",
              "      <td>...</td>\n",
              "      <td>...</td>\n",
              "      <td>...</td>\n",
              "      <td>...</td>\n",
              "      <td>...</td>\n",
              "      <td>...</td>\n",
              "      <td>...</td>\n",
              "      <td>...</td>\n",
              "      <td>...</td>\n",
              "      <td>...</td>\n",
              "      <td>...</td>\n",
              "      <td>...</td>\n",
              "      <td>...</td>\n",
              "    </tr>\n",
              "    <tr>\n",
              "      <th>1428</th>\n",
              "      <td>1</td>\n",
              "      <td>26-100</td>\n",
              "      <td>1.0</td>\n",
              "      <td>Yes</td>\n",
              "      <td>No</td>\n",
              "      <td>No</td>\n",
              "      <td>No</td>\n",
              "      <td>I don't know</td>\n",
              "      <td>Somewhat easy</td>\n",
              "      <td>Maybe</td>\n",
              "      <td>...</td>\n",
              "      <td>Yes</td>\n",
              "      <td>No</td>\n",
              "      <td>No</td>\n",
              "      <td>No</td>\n",
              "      <td>1</td>\n",
              "      <td>Not applicable to me</td>\n",
              "      <td>Not applicable to me</td>\n",
              "      <td>34.0</td>\n",
              "      <td>f</td>\n",
              "      <td>Sometimes</td>\n",
              "    </tr>\n",
              "    <tr>\n",
              "      <th>1429</th>\n",
              "      <td>1</td>\n",
              "      <td>26-100</td>\n",
              "      <td>1.0</td>\n",
              "      <td>Yes</td>\n",
              "      <td>No</td>\n",
              "      <td>No</td>\n",
              "      <td>No</td>\n",
              "      <td>I don't know</td>\n",
              "      <td>Somewhat easy</td>\n",
              "      <td>Maybe</td>\n",
              "      <td>...</td>\n",
              "      <td>Yes</td>\n",
              "      <td>No</td>\n",
              "      <td>No</td>\n",
              "      <td>Yes</td>\n",
              "      <td>0</td>\n",
              "      <td>Sometimes</td>\n",
              "      <td>Often</td>\n",
              "      <td>56.0</td>\n",
              "      <td>male</td>\n",
              "      <td>Sometimes</td>\n",
              "    </tr>\n",
              "    <tr>\n",
              "      <th>1430</th>\n",
              "      <td>0</td>\n",
              "      <td>100-500</td>\n",
              "      <td>1.0</td>\n",
              "      <td>Yes</td>\n",
              "      <td>Yes</td>\n",
              "      <td>Yes</td>\n",
              "      <td>Yes</td>\n",
              "      <td>I don't know</td>\n",
              "      <td>Somewhat difficult</td>\n",
              "      <td>Maybe</td>\n",
              "      <td>...</td>\n",
              "      <td>Yes</td>\n",
              "      <td>Yes</td>\n",
              "      <td>Maybe</td>\n",
              "      <td>Yes</td>\n",
              "      <td>1</td>\n",
              "      <td>Rarely</td>\n",
              "      <td>Sometimes</td>\n",
              "      <td>52.0</td>\n",
              "      <td>male</td>\n",
              "      <td>Sometimes</td>\n",
              "    </tr>\n",
              "    <tr>\n",
              "      <th>1431</th>\n",
              "      <td>0</td>\n",
              "      <td>100-500</td>\n",
              "      <td>0.0</td>\n",
              "      <td>I don't know</td>\n",
              "      <td>I am not sure</td>\n",
              "      <td>No</td>\n",
              "      <td>Yes</td>\n",
              "      <td>I don't know</td>\n",
              "      <td>Somewhat difficult</td>\n",
              "      <td>Maybe</td>\n",
              "      <td>...</td>\n",
              "      <td>Yes</td>\n",
              "      <td>Maybe</td>\n",
              "      <td>Yes</td>\n",
              "      <td>Yes</td>\n",
              "      <td>0</td>\n",
              "      <td>Sometimes</td>\n",
              "      <td>Often</td>\n",
              "      <td>30.0</td>\n",
              "      <td>f</td>\n",
              "      <td>Sometimes</td>\n",
              "    </tr>\n",
              "    <tr>\n",
              "      <th>1432</th>\n",
              "      <td>0</td>\n",
              "      <td>100-500</td>\n",
              "      <td>1.0</td>\n",
              "      <td>Yes</td>\n",
              "      <td>No</td>\n",
              "      <td>No</td>\n",
              "      <td>No</td>\n",
              "      <td>I don't know</td>\n",
              "      <td>Very difficult</td>\n",
              "      <td>Maybe</td>\n",
              "      <td>...</td>\n",
              "      <td>I don't know</td>\n",
              "      <td>Yes</td>\n",
              "      <td>Yes</td>\n",
              "      <td>No</td>\n",
              "      <td>0</td>\n",
              "      <td>Not applicable to me</td>\n",
              "      <td>Often</td>\n",
              "      <td>25.0</td>\n",
              "      <td>other</td>\n",
              "      <td>Sometimes</td>\n",
              "    </tr>\n",
              "  </tbody>\n",
              "</table>\n",
              "<p>1433 rows × 43 columns</p>\n",
              "</div>"
            ],
            "text/plain": [
              "     self_employed number_of_employees company_in_tech  \\\n",
              "0                0              26-100             1.0   \n",
              "1                0              Jun-25             1.0   \n",
              "2                0              Jun-25             1.0   \n",
              "3                1              26-100             1.0   \n",
              "4                0              Jun-25             0.0   \n",
              "...            ...                 ...             ...   \n",
              "1428             1              26-100             1.0   \n",
              "1429             1              26-100             1.0   \n",
              "1430             0             100-500             1.0   \n",
              "1431             0             100-500             0.0   \n",
              "1432             0             100-500             1.0   \n",
              "\n",
              "                company_mental_health company_mental_health_options_awareness  \\\n",
              "0     Not eligible for coverage / N/A                                      No   \n",
              "1                                  No                                     Yes   \n",
              "2                                  No                                      No   \n",
              "3                                 Yes                                      No   \n",
              "4                                 Yes                                     Yes   \n",
              "...                               ...                                     ...   \n",
              "1428                              Yes                                      No   \n",
              "1429                              Yes                                      No   \n",
              "1430                              Yes                                     Yes   \n",
              "1431                     I don't know                           I am not sure   \n",
              "1432                              Yes                                      No   \n",
              "\n",
              "     company_mental_health_discussion company_mental_health_resources  \\\n",
              "0                                  No                              No   \n",
              "1                                 Yes                             Yes   \n",
              "2                                  No                              No   \n",
              "3                                  No                              No   \n",
              "4                                  No                              No   \n",
              "...                               ...                             ...   \n",
              "1428                               No                              No   \n",
              "1429                               No                              No   \n",
              "1430                              Yes                             Yes   \n",
              "1431                               No                             Yes   \n",
              "1432                               No                              No   \n",
              "\n",
              "     company_mental_health_anonymity company_mental_health_leave  \\\n",
              "0                       I don't know                   Very easy   \n",
              "1                                Yes               Somewhat easy   \n",
              "2                       I don't know  Neither easy nor difficult   \n",
              "3                       I don't know               Somewhat easy   \n",
              "4                                 No  Neither easy nor difficult   \n",
              "...                              ...                         ...   \n",
              "1428                    I don't know               Somewhat easy   \n",
              "1429                    I don't know               Somewhat easy   \n",
              "1430                    I don't know          Somewhat difficult   \n",
              "1431                    I don't know          Somewhat difficult   \n",
              "1432                    I don't know              Very difficult   \n",
              "\n",
              "     company_mental_health_discussion_impact  ...  \\\n",
              "0                                         No  ...   \n",
              "1                                         No  ...   \n",
              "2                                      Maybe  ...   \n",
              "3                                      Maybe  ...   \n",
              "4                                        Yes  ...   \n",
              "...                                      ...  ...   \n",
              "1428                                   Maybe  ...   \n",
              "1429                                   Maybe  ...   \n",
              "1430                                   Maybe  ...   \n",
              "1431                                   Maybe  ...   \n",
              "1432                                   Maybe  ...   \n",
              "\n",
              "     mental_health_family_history mental_health_disorder_past  \\\n",
              "0                              No                         Yes   \n",
              "1                             Yes                         Yes   \n",
              "2                              No                       Maybe   \n",
              "3                              No                         Yes   \n",
              "4                             Yes                         Yes   \n",
              "...                           ...                         ...   \n",
              "1428                          Yes                          No   \n",
              "1429                          Yes                          No   \n",
              "1430                          Yes                         Yes   \n",
              "1431                          Yes                       Maybe   \n",
              "1432                 I don't know                         Yes   \n",
              "\n",
              "     mental_health_disorder_current  \\\n",
              "0                                No   \n",
              "1                               Yes   \n",
              "2                                No   \n",
              "3                               Yes   \n",
              "4                               Yes   \n",
              "...                             ...   \n",
              "1428                             No   \n",
              "1429                             No   \n",
              "1430                          Maybe   \n",
              "1431                            Yes   \n",
              "1432                            Yes   \n",
              "\n",
              "     mental_health_disorder_professional_diagnosis  \\\n",
              "0                                              Yes   \n",
              "1                                              Yes   \n",
              "2                                               No   \n",
              "3                                              Yes   \n",
              "4                                              Yes   \n",
              "...                                            ...   \n",
              "1428                                            No   \n",
              "1429                                           Yes   \n",
              "1430                                           Yes   \n",
              "1431                                           Yes   \n",
              "1432                                            No   \n",
              "\n",
              "     mental_health_proffesional_treatment  \\\n",
              "0                                       0   \n",
              "1                                       1   \n",
              "2                                       1   \n",
              "3                                       1   \n",
              "4                                       1   \n",
              "...                                   ...   \n",
              "1428                                    1   \n",
              "1429                                    0   \n",
              "1430                                    1   \n",
              "1431                                    0   \n",
              "1432                                    0   \n",
              "\n",
              "     mental_health_treatment_affects_work  \\\n",
              "0                    Not applicable to me   \n",
              "1                                  Rarely   \n",
              "2                    Not applicable to me   \n",
              "3                               Sometimes   \n",
              "4                               Sometimes   \n",
              "...                                   ...   \n",
              "1428                 Not applicable to me   \n",
              "1429                            Sometimes   \n",
              "1430                               Rarely   \n",
              "1431                            Sometimes   \n",
              "1432                 Not applicable to me   \n",
              "\n",
              "     mental_health_no_treatment_affects_work   age    sex     remote  \n",
              "0                       Not applicable to me  39.0   male  Sometimes  \n",
              "1                                  Sometimes  29.0   male      Never  \n",
              "2                       Not applicable to me  38.0   male     Always  \n",
              "3                                  Sometimes  43.0   male  Sometimes  \n",
              "4                                  Sometimes  43.0      f  Sometimes  \n",
              "...                                      ...   ...    ...        ...  \n",
              "1428                    Not applicable to me  34.0      f  Sometimes  \n",
              "1429                                   Often  56.0   male  Sometimes  \n",
              "1430                               Sometimes  52.0   male  Sometimes  \n",
              "1431                                   Often  30.0      f  Sometimes  \n",
              "1432                                   Often  25.0  other  Sometimes  \n",
              "\n",
              "[1433 rows x 43 columns]"
            ]
          },
          "execution_count": 65,
          "metadata": {},
          "output_type": "execute_result"
        }
      ],
      "source": [
        "survey_data"
      ]
    },
    {
      "cell_type": "code",
      "execution_count": null,
      "metadata": {},
      "outputs": [],
      "source": []
    },
    {
      "cell_type": "code",
      "execution_count": 66,
      "metadata": {
        "colab": {
          "base_uri": "https://localhost:8080/",
          "height": 543
        },
        "id": "-ZlGq9mu3Mrq",
        "outputId": "011e1b50-6993-42fb-c744-b8a8e2830db0"
      },
      "outputs": [],
      "source": [
        "survey_data_with_clusters = survey_data[[\"company_mental_health\", \"company_mental_health_discussion\", \"company_mental_health_resources\",\n",
        "                                         \"company_mental_health_anonymity\", \"company_mental_health_leave\", \"company_mental_health_options_awareness\", \n",
        "                                         \"company_mental_health_discussion_impact\", \"mental_health_coworkers_discussion\", \"mental_health_supervisor_discussion\", \n",
        "                                         \"company_mental_health_serious\", \"company_mental_health_coworker_discussion_negative_impact\", \"previous_and_current_company_mental_health_bad_response_experienced\",\n",
        "                                         \"mental_health_negative_impact_career\", \"mental_health_negative_view_coworkers\",\"mental_health_disorder_current\"]]"
      ]
    },
    {
      "cell_type": "code",
      "execution_count": 67,
      "metadata": {
        "colab": {
          "base_uri": "https://localhost:8080/",
          "height": 74
        },
        "id": "eRHcBV803Mun",
        "outputId": "2eacc779-b123-4b5a-9883-9f6ed03f01d7"
      },
      "outputs": [
        {
          "name": "stdout",
          "output_type": "stream",
          "text": [
            "company_mental_health ['Not eligible for coverage / N/A' 'No' 'Yes' \"I don't know\"]\n",
            "company_mental_health_discussion ['No' 'Yes' \"I don't know\"]\n",
            "company_mental_health_resources ['No' 'Yes' \"I don't know\"]\n",
            "company_mental_health_anonymity [\"I don't know\" 'Yes' 'No']\n",
            "company_mental_health_leave ['Very easy' 'Somewhat easy' 'Neither easy nor difficult' 'Very difficult'\n",
            " 'Somewhat difficult' \"I don't know\"]\n",
            "company_mental_health_options_awareness ['No' 'Yes' 'I am not sure']\n",
            "company_mental_health_discussion_impact ['No' 'Maybe' 'Yes']\n",
            "mental_health_coworkers_discussion ['Maybe' 'Yes' 'No']\n",
            "mental_health_supervisor_discussion ['Yes' 'Maybe' 'No']\n",
            "company_mental_health_serious [\"I don't know\" 'Yes' 'No']\n",
            "company_mental_health_coworker_discussion_negative_impact ['No' 'Yes']\n",
            "previous_and_current_company_mental_health_bad_response_experienced ['No' 'Maybe/Not sure' 'Yes, I experienced' 'Yes, I observed']\n",
            "mental_health_negative_impact_career ['Maybe' \"No, I don't think it would\" 'Yes, I think it would'\n",
            " 'No, it has not' 'Yes, it has']\n",
            "mental_health_negative_view_coworkers [\"No, I don't think they would\" 'Maybe' 'Yes, they do'\n",
            " 'Yes, I think they would' 'No, they do not']\n",
            "mental_health_disorder_current ['No' 'Yes' 'Maybe']\n"
          ]
        }
      ],
      "source": [
        "for col in survey_data_with_clusters:\n",
        "    print(str(col) + \" \" + str(survey_data_with_clusters[col].unique()))"
      ]
    },
    {
      "cell_type": "code",
      "execution_count": 68,
      "metadata": {
        "id": "78P2wuNU4a4F"
      },
      "outputs": [
        {
          "name": "stderr",
          "output_type": "stream",
          "text": [
            "C:\\Users\\SHEKHAR\\AppData\\Local\\Temp\\ipykernel_7680\\3149824127.py:6: SettingWithCopyWarning:\n",
            "\n",
            "\n",
            "A value is trying to be set on a copy of a slice from a DataFrame\n",
            "\n",
            "See the caveats in the documentation: https://pandas.pydata.org/pandas-docs/stable/user_guide/indexing.html#returning-a-view-versus-a-copy\n",
            "\n",
            "C:\\Users\\SHEKHAR\\AppData\\Local\\Temp\\ipykernel_7680\\3149824127.py:7: SettingWithCopyWarning:\n",
            "\n",
            "\n",
            "A value is trying to be set on a copy of a slice from a DataFrame\n",
            "\n",
            "See the caveats in the documentation: https://pandas.pydata.org/pandas-docs/stable/user_guide/indexing.html#returning-a-view-versus-a-copy\n",
            "\n",
            "C:\\Users\\SHEKHAR\\AppData\\Local\\Temp\\ipykernel_7680\\3149824127.py:8: SettingWithCopyWarning:\n",
            "\n",
            "\n",
            "A value is trying to be set on a copy of a slice from a DataFrame\n",
            "\n",
            "See the caveats in the documentation: https://pandas.pydata.org/pandas-docs/stable/user_guide/indexing.html#returning-a-view-versus-a-copy\n",
            "\n",
            "C:\\Users\\SHEKHAR\\AppData\\Local\\Temp\\ipykernel_7680\\3149824127.py:9: SettingWithCopyWarning:\n",
            "\n",
            "\n",
            "A value is trying to be set on a copy of a slice from a DataFrame\n",
            "\n",
            "See the caveats in the documentation: https://pandas.pydata.org/pandas-docs/stable/user_guide/indexing.html#returning-a-view-versus-a-copy\n",
            "\n",
            "C:\\Users\\SHEKHAR\\AppData\\Local\\Temp\\ipykernel_7680\\3149824127.py:11: SettingWithCopyWarning:\n",
            "\n",
            "\n",
            "A value is trying to be set on a copy of a slice from a DataFrame\n",
            "\n",
            "See the caveats in the documentation: https://pandas.pydata.org/pandas-docs/stable/user_guide/indexing.html#returning-a-view-versus-a-copy\n",
            "\n",
            "C:\\Users\\SHEKHAR\\AppData\\Local\\Temp\\ipykernel_7680\\3149824127.py:12: SettingWithCopyWarning:\n",
            "\n",
            "\n",
            "A value is trying to be set on a copy of a slice from a DataFrame\n",
            "\n",
            "See the caveats in the documentation: https://pandas.pydata.org/pandas-docs/stable/user_guide/indexing.html#returning-a-view-versus-a-copy\n",
            "\n",
            "C:\\Users\\SHEKHAR\\AppData\\Local\\Temp\\ipykernel_7680\\3149824127.py:13: SettingWithCopyWarning:\n",
            "\n",
            "\n",
            "A value is trying to be set on a copy of a slice from a DataFrame\n",
            "\n",
            "See the caveats in the documentation: https://pandas.pydata.org/pandas-docs/stable/user_guide/indexing.html#returning-a-view-versus-a-copy\n",
            "\n",
            "C:\\Users\\SHEKHAR\\AppData\\Local\\Temp\\ipykernel_7680\\3149824127.py:15: SettingWithCopyWarning:\n",
            "\n",
            "\n",
            "A value is trying to be set on a copy of a slice from a DataFrame\n",
            "\n",
            "See the caveats in the documentation: https://pandas.pydata.org/pandas-docs/stable/user_guide/indexing.html#returning-a-view-versus-a-copy\n",
            "\n",
            "C:\\Users\\SHEKHAR\\AppData\\Local\\Temp\\ipykernel_7680\\3149824127.py:16: SettingWithCopyWarning:\n",
            "\n",
            "\n",
            "A value is trying to be set on a copy of a slice from a DataFrame\n",
            "\n",
            "See the caveats in the documentation: https://pandas.pydata.org/pandas-docs/stable/user_guide/indexing.html#returning-a-view-versus-a-copy\n",
            "\n",
            "C:\\Users\\SHEKHAR\\AppData\\Local\\Temp\\ipykernel_7680\\3149824127.py:17: SettingWithCopyWarning:\n",
            "\n",
            "\n",
            "A value is trying to be set on a copy of a slice from a DataFrame\n",
            "\n",
            "See the caveats in the documentation: https://pandas.pydata.org/pandas-docs/stable/user_guide/indexing.html#returning-a-view-versus-a-copy\n",
            "\n",
            "C:\\Users\\SHEKHAR\\AppData\\Local\\Temp\\ipykernel_7680\\3149824127.py:19: SettingWithCopyWarning:\n",
            "\n",
            "\n",
            "A value is trying to be set on a copy of a slice from a DataFrame\n",
            "\n",
            "See the caveats in the documentation: https://pandas.pydata.org/pandas-docs/stable/user_guide/indexing.html#returning-a-view-versus-a-copy\n",
            "\n",
            "C:\\Users\\SHEKHAR\\AppData\\Local\\Temp\\ipykernel_7680\\3149824127.py:20: SettingWithCopyWarning:\n",
            "\n",
            "\n",
            "A value is trying to be set on a copy of a slice from a DataFrame\n",
            "\n",
            "See the caveats in the documentation: https://pandas.pydata.org/pandas-docs/stable/user_guide/indexing.html#returning-a-view-versus-a-copy\n",
            "\n",
            "C:\\Users\\SHEKHAR\\AppData\\Local\\Temp\\ipykernel_7680\\3149824127.py:21: SettingWithCopyWarning:\n",
            "\n",
            "\n",
            "A value is trying to be set on a copy of a slice from a DataFrame\n",
            "\n",
            "See the caveats in the documentation: https://pandas.pydata.org/pandas-docs/stable/user_guide/indexing.html#returning-a-view-versus-a-copy\n",
            "\n",
            "C:\\Users\\SHEKHAR\\AppData\\Local\\Temp\\ipykernel_7680\\3149824127.py:23: SettingWithCopyWarning:\n",
            "\n",
            "\n",
            "A value is trying to be set on a copy of a slice from a DataFrame\n",
            "\n",
            "See the caveats in the documentation: https://pandas.pydata.org/pandas-docs/stable/user_guide/indexing.html#returning-a-view-versus-a-copy\n",
            "\n",
            "C:\\Users\\SHEKHAR\\AppData\\Local\\Temp\\ipykernel_7680\\3149824127.py:24: SettingWithCopyWarning:\n",
            "\n",
            "\n",
            "A value is trying to be set on a copy of a slice from a DataFrame\n",
            "\n",
            "See the caveats in the documentation: https://pandas.pydata.org/pandas-docs/stable/user_guide/indexing.html#returning-a-view-versus-a-copy\n",
            "\n",
            "C:\\Users\\SHEKHAR\\AppData\\Local\\Temp\\ipykernel_7680\\3149824127.py:25: SettingWithCopyWarning:\n",
            "\n",
            "\n",
            "A value is trying to be set on a copy of a slice from a DataFrame\n",
            "\n",
            "See the caveats in the documentation: https://pandas.pydata.org/pandas-docs/stable/user_guide/indexing.html#returning-a-view-versus-a-copy\n",
            "\n",
            "C:\\Users\\SHEKHAR\\AppData\\Local\\Temp\\ipykernel_7680\\3149824127.py:26: SettingWithCopyWarning:\n",
            "\n",
            "\n",
            "A value is trying to be set on a copy of a slice from a DataFrame\n",
            "\n",
            "See the caveats in the documentation: https://pandas.pydata.org/pandas-docs/stable/user_guide/indexing.html#returning-a-view-versus-a-copy\n",
            "\n",
            "C:\\Users\\SHEKHAR\\AppData\\Local\\Temp\\ipykernel_7680\\3149824127.py:27: SettingWithCopyWarning:\n",
            "\n",
            "\n",
            "A value is trying to be set on a copy of a slice from a DataFrame\n",
            "\n",
            "See the caveats in the documentation: https://pandas.pydata.org/pandas-docs/stable/user_guide/indexing.html#returning-a-view-versus-a-copy\n",
            "\n",
            "C:\\Users\\SHEKHAR\\AppData\\Local\\Temp\\ipykernel_7680\\3149824127.py:28: SettingWithCopyWarning:\n",
            "\n",
            "\n",
            "A value is trying to be set on a copy of a slice from a DataFrame\n",
            "\n",
            "See the caveats in the documentation: https://pandas.pydata.org/pandas-docs/stable/user_guide/indexing.html#returning-a-view-versus-a-copy\n",
            "\n",
            "C:\\Users\\SHEKHAR\\AppData\\Local\\Temp\\ipykernel_7680\\3149824127.py:30: SettingWithCopyWarning:\n",
            "\n",
            "\n",
            "A value is trying to be set on a copy of a slice from a DataFrame\n",
            "\n",
            "See the caveats in the documentation: https://pandas.pydata.org/pandas-docs/stable/user_guide/indexing.html#returning-a-view-versus-a-copy\n",
            "\n",
            "C:\\Users\\SHEKHAR\\AppData\\Local\\Temp\\ipykernel_7680\\3149824127.py:31: SettingWithCopyWarning:\n",
            "\n",
            "\n",
            "A value is trying to be set on a copy of a slice from a DataFrame\n",
            "\n",
            "See the caveats in the documentation: https://pandas.pydata.org/pandas-docs/stable/user_guide/indexing.html#returning-a-view-versus-a-copy\n",
            "\n",
            "C:\\Users\\SHEKHAR\\AppData\\Local\\Temp\\ipykernel_7680\\3149824127.py:32: SettingWithCopyWarning:\n",
            "\n",
            "\n",
            "A value is trying to be set on a copy of a slice from a DataFrame\n",
            "\n",
            "See the caveats in the documentation: https://pandas.pydata.org/pandas-docs/stable/user_guide/indexing.html#returning-a-view-versus-a-copy\n",
            "\n",
            "C:\\Users\\SHEKHAR\\AppData\\Local\\Temp\\ipykernel_7680\\3149824127.py:34: SettingWithCopyWarning:\n",
            "\n",
            "\n",
            "A value is trying to be set on a copy of a slice from a DataFrame\n",
            "\n",
            "See the caveats in the documentation: https://pandas.pydata.org/pandas-docs/stable/user_guide/indexing.html#returning-a-view-versus-a-copy\n",
            "\n",
            "C:\\Users\\SHEKHAR\\AppData\\Local\\Temp\\ipykernel_7680\\3149824127.py:35: SettingWithCopyWarning:\n",
            "\n",
            "\n",
            "A value is trying to be set on a copy of a slice from a DataFrame\n",
            "\n",
            "See the caveats in the documentation: https://pandas.pydata.org/pandas-docs/stable/user_guide/indexing.html#returning-a-view-versus-a-copy\n",
            "\n",
            "C:\\Users\\SHEKHAR\\AppData\\Local\\Temp\\ipykernel_7680\\3149824127.py:36: SettingWithCopyWarning:\n",
            "\n",
            "\n",
            "A value is trying to be set on a copy of a slice from a DataFrame\n",
            "\n",
            "See the caveats in the documentation: https://pandas.pydata.org/pandas-docs/stable/user_guide/indexing.html#returning-a-view-versus-a-copy\n",
            "\n",
            "C:\\Users\\SHEKHAR\\AppData\\Local\\Temp\\ipykernel_7680\\3149824127.py:38: SettingWithCopyWarning:\n",
            "\n",
            "\n",
            "A value is trying to be set on a copy of a slice from a DataFrame\n",
            "\n",
            "See the caveats in the documentation: https://pandas.pydata.org/pandas-docs/stable/user_guide/indexing.html#returning-a-view-versus-a-copy\n",
            "\n",
            "C:\\Users\\SHEKHAR\\AppData\\Local\\Temp\\ipykernel_7680\\3149824127.py:39: SettingWithCopyWarning:\n",
            "\n",
            "\n",
            "A value is trying to be set on a copy of a slice from a DataFrame\n",
            "\n",
            "See the caveats in the documentation: https://pandas.pydata.org/pandas-docs/stable/user_guide/indexing.html#returning-a-view-versus-a-copy\n",
            "\n",
            "C:\\Users\\SHEKHAR\\AppData\\Local\\Temp\\ipykernel_7680\\3149824127.py:40: SettingWithCopyWarning:\n",
            "\n",
            "\n",
            "A value is trying to be set on a copy of a slice from a DataFrame\n",
            "\n",
            "See the caveats in the documentation: https://pandas.pydata.org/pandas-docs/stable/user_guide/indexing.html#returning-a-view-versus-a-copy\n",
            "\n",
            "C:\\Users\\SHEKHAR\\AppData\\Local\\Temp\\ipykernel_7680\\3149824127.py:42: SettingWithCopyWarning:\n",
            "\n",
            "\n",
            "A value is trying to be set on a copy of a slice from a DataFrame\n",
            "\n",
            "See the caveats in the documentation: https://pandas.pydata.org/pandas-docs/stable/user_guide/indexing.html#returning-a-view-versus-a-copy\n",
            "\n",
            "C:\\Users\\SHEKHAR\\AppData\\Local\\Temp\\ipykernel_7680\\3149824127.py:43: SettingWithCopyWarning:\n",
            "\n",
            "\n",
            "A value is trying to be set on a copy of a slice from a DataFrame\n",
            "\n",
            "See the caveats in the documentation: https://pandas.pydata.org/pandas-docs/stable/user_guide/indexing.html#returning-a-view-versus-a-copy\n",
            "\n",
            "C:\\Users\\SHEKHAR\\AppData\\Local\\Temp\\ipykernel_7680\\3149824127.py:44: SettingWithCopyWarning:\n",
            "\n",
            "\n",
            "A value is trying to be set on a copy of a slice from a DataFrame\n",
            "\n",
            "See the caveats in the documentation: https://pandas.pydata.org/pandas-docs/stable/user_guide/indexing.html#returning-a-view-versus-a-copy\n",
            "\n",
            "C:\\Users\\SHEKHAR\\AppData\\Local\\Temp\\ipykernel_7680\\3149824127.py:46: SettingWithCopyWarning:\n",
            "\n",
            "\n",
            "A value is trying to be set on a copy of a slice from a DataFrame\n",
            "\n",
            "See the caveats in the documentation: https://pandas.pydata.org/pandas-docs/stable/user_guide/indexing.html#returning-a-view-versus-a-copy\n",
            "\n",
            "C:\\Users\\SHEKHAR\\AppData\\Local\\Temp\\ipykernel_7680\\3149824127.py:47: SettingWithCopyWarning:\n",
            "\n",
            "\n",
            "A value is trying to be set on a copy of a slice from a DataFrame\n",
            "\n",
            "See the caveats in the documentation: https://pandas.pydata.org/pandas-docs/stable/user_guide/indexing.html#returning-a-view-versus-a-copy\n",
            "\n",
            "C:\\Users\\SHEKHAR\\AppData\\Local\\Temp\\ipykernel_7680\\3149824127.py:48: SettingWithCopyWarning:\n",
            "\n",
            "\n",
            "A value is trying to be set on a copy of a slice from a DataFrame\n",
            "\n",
            "See the caveats in the documentation: https://pandas.pydata.org/pandas-docs/stable/user_guide/indexing.html#returning-a-view-versus-a-copy\n",
            "\n",
            "C:\\Users\\SHEKHAR\\AppData\\Local\\Temp\\ipykernel_7680\\3149824127.py:50: SettingWithCopyWarning:\n",
            "\n",
            "\n",
            "A value is trying to be set on a copy of a slice from a DataFrame\n",
            "\n",
            "See the caveats in the documentation: https://pandas.pydata.org/pandas-docs/stable/user_guide/indexing.html#returning-a-view-versus-a-copy\n",
            "\n",
            "C:\\Users\\SHEKHAR\\AppData\\Local\\Temp\\ipykernel_7680\\3149824127.py:51: SettingWithCopyWarning:\n",
            "\n",
            "\n",
            "A value is trying to be set on a copy of a slice from a DataFrame\n",
            "\n",
            "See the caveats in the documentation: https://pandas.pydata.org/pandas-docs/stable/user_guide/indexing.html#returning-a-view-versus-a-copy\n",
            "\n",
            "C:\\Users\\SHEKHAR\\AppData\\Local\\Temp\\ipykernel_7680\\3149824127.py:53: SettingWithCopyWarning:\n",
            "\n",
            "\n",
            "A value is trying to be set on a copy of a slice from a DataFrame\n",
            "\n",
            "See the caveats in the documentation: https://pandas.pydata.org/pandas-docs/stable/user_guide/indexing.html#returning-a-view-versus-a-copy\n",
            "\n",
            "C:\\Users\\SHEKHAR\\AppData\\Local\\Temp\\ipykernel_7680\\3149824127.py:54: SettingWithCopyWarning:\n",
            "\n",
            "\n",
            "A value is trying to be set on a copy of a slice from a DataFrame\n",
            "\n",
            "See the caveats in the documentation: https://pandas.pydata.org/pandas-docs/stable/user_guide/indexing.html#returning-a-view-versus-a-copy\n",
            "\n",
            "C:\\Users\\SHEKHAR\\AppData\\Local\\Temp\\ipykernel_7680\\3149824127.py:55: SettingWithCopyWarning:\n",
            "\n",
            "\n",
            "A value is trying to be set on a copy of a slice from a DataFrame\n",
            "\n",
            "See the caveats in the documentation: https://pandas.pydata.org/pandas-docs/stable/user_guide/indexing.html#returning-a-view-versus-a-copy\n",
            "\n",
            "C:\\Users\\SHEKHAR\\AppData\\Local\\Temp\\ipykernel_7680\\3149824127.py:56: SettingWithCopyWarning:\n",
            "\n",
            "\n",
            "A value is trying to be set on a copy of a slice from a DataFrame\n",
            "\n",
            "See the caveats in the documentation: https://pandas.pydata.org/pandas-docs/stable/user_guide/indexing.html#returning-a-view-versus-a-copy\n",
            "\n",
            "C:\\Users\\SHEKHAR\\AppData\\Local\\Temp\\ipykernel_7680\\3149824127.py:58: SettingWithCopyWarning:\n",
            "\n",
            "\n",
            "A value is trying to be set on a copy of a slice from a DataFrame\n",
            "\n",
            "See the caveats in the documentation: https://pandas.pydata.org/pandas-docs/stable/user_guide/indexing.html#returning-a-view-versus-a-copy\n",
            "\n",
            "C:\\Users\\SHEKHAR\\AppData\\Local\\Temp\\ipykernel_7680\\3149824127.py:59: SettingWithCopyWarning:\n",
            "\n",
            "\n",
            "A value is trying to be set on a copy of a slice from a DataFrame\n",
            "\n",
            "See the caveats in the documentation: https://pandas.pydata.org/pandas-docs/stable/user_guide/indexing.html#returning-a-view-versus-a-copy\n",
            "\n",
            "C:\\Users\\SHEKHAR\\AppData\\Local\\Temp\\ipykernel_7680\\3149824127.py:60: SettingWithCopyWarning:\n",
            "\n",
            "\n",
            "A value is trying to be set on a copy of a slice from a DataFrame\n",
            "\n",
            "See the caveats in the documentation: https://pandas.pydata.org/pandas-docs/stable/user_guide/indexing.html#returning-a-view-versus-a-copy\n",
            "\n",
            "C:\\Users\\SHEKHAR\\AppData\\Local\\Temp\\ipykernel_7680\\3149824127.py:61: SettingWithCopyWarning:\n",
            "\n",
            "\n",
            "A value is trying to be set on a copy of a slice from a DataFrame\n",
            "\n",
            "See the caveats in the documentation: https://pandas.pydata.org/pandas-docs/stable/user_guide/indexing.html#returning-a-view-versus-a-copy\n",
            "\n",
            "C:\\Users\\SHEKHAR\\AppData\\Local\\Temp\\ipykernel_7680\\3149824127.py:62: SettingWithCopyWarning:\n",
            "\n",
            "\n",
            "A value is trying to be set on a copy of a slice from a DataFrame\n",
            "\n",
            "See the caveats in the documentation: https://pandas.pydata.org/pandas-docs/stable/user_guide/indexing.html#returning-a-view-versus-a-copy\n",
            "\n",
            "C:\\Users\\SHEKHAR\\AppData\\Local\\Temp\\ipykernel_7680\\3149824127.py:64: SettingWithCopyWarning:\n",
            "\n",
            "\n",
            "A value is trying to be set on a copy of a slice from a DataFrame\n",
            "\n",
            "See the caveats in the documentation: https://pandas.pydata.org/pandas-docs/stable/user_guide/indexing.html#returning-a-view-versus-a-copy\n",
            "\n",
            "C:\\Users\\SHEKHAR\\AppData\\Local\\Temp\\ipykernel_7680\\3149824127.py:65: SettingWithCopyWarning:\n",
            "\n",
            "\n",
            "A value is trying to be set on a copy of a slice from a DataFrame\n",
            "\n",
            "See the caveats in the documentation: https://pandas.pydata.org/pandas-docs/stable/user_guide/indexing.html#returning-a-view-versus-a-copy\n",
            "\n",
            "C:\\Users\\SHEKHAR\\AppData\\Local\\Temp\\ipykernel_7680\\3149824127.py:66: SettingWithCopyWarning:\n",
            "\n",
            "\n",
            "A value is trying to be set on a copy of a slice from a DataFrame\n",
            "\n",
            "See the caveats in the documentation: https://pandas.pydata.org/pandas-docs/stable/user_guide/indexing.html#returning-a-view-versus-a-copy\n",
            "\n",
            "C:\\Users\\SHEKHAR\\AppData\\Local\\Temp\\ipykernel_7680\\3149824127.py:67: SettingWithCopyWarning:\n",
            "\n",
            "\n",
            "A value is trying to be set on a copy of a slice from a DataFrame\n",
            "\n",
            "See the caveats in the documentation: https://pandas.pydata.org/pandas-docs/stable/user_guide/indexing.html#returning-a-view-versus-a-copy\n",
            "\n",
            "C:\\Users\\SHEKHAR\\AppData\\Local\\Temp\\ipykernel_7680\\3149824127.py:68: SettingWithCopyWarning:\n",
            "\n",
            "\n",
            "A value is trying to be set on a copy of a slice from a DataFrame\n",
            "\n",
            "See the caveats in the documentation: https://pandas.pydata.org/pandas-docs/stable/user_guide/indexing.html#returning-a-view-versus-a-copy\n",
            "\n",
            "C:\\Users\\SHEKHAR\\AppData\\Local\\Temp\\ipykernel_7680\\3149824127.py:70: SettingWithCopyWarning:\n",
            "\n",
            "\n",
            "A value is trying to be set on a copy of a slice from a DataFrame\n",
            "\n",
            "See the caveats in the documentation: https://pandas.pydata.org/pandas-docs/stable/user_guide/indexing.html#returning-a-view-versus-a-copy\n",
            "\n",
            "C:\\Users\\SHEKHAR\\AppData\\Local\\Temp\\ipykernel_7680\\3149824127.py:71: SettingWithCopyWarning:\n",
            "\n",
            "\n",
            "A value is trying to be set on a copy of a slice from a DataFrame\n",
            "\n",
            "See the caveats in the documentation: https://pandas.pydata.org/pandas-docs/stable/user_guide/indexing.html#returning-a-view-versus-a-copy\n",
            "\n",
            "C:\\Users\\SHEKHAR\\AppData\\Local\\Temp\\ipykernel_7680\\3149824127.py:72: SettingWithCopyWarning:\n",
            "\n",
            "\n",
            "A value is trying to be set on a copy of a slice from a DataFrame\n",
            "\n",
            "See the caveats in the documentation: https://pandas.pydata.org/pandas-docs/stable/user_guide/indexing.html#returning-a-view-versus-a-copy\n",
            "\n"
          ]
        }
      ],
      "source": [
        "# Convert data into numerical values\n",
        "# We use a rating system here 0 bad => 5 best\n",
        "# Sometimes the missing knowledge of a service is equal to no service because of bad communication, so it sometimes gets the same points as having none\n",
        "\n",
        "# company_mental_health \n",
        "survey_data_with_clusters.loc[survey_data_with_clusters['company_mental_health'] == \"No\", 'company_mental_health'] = 0\n",
        "survey_data_with_clusters.loc[survey_data_with_clusters['company_mental_health'] == \"Not eligible for coverage / N/A\", 'company_mental_health'] = 2\n",
        "survey_data_with_clusters.loc[survey_data_with_clusters['company_mental_health'] == \"I don't know\", 'company_mental_health'] = 0 # Not knowing is equal to having none\n",
        "survey_data_with_clusters.loc[survey_data_with_clusters['company_mental_health'] == \"Yes\", 'company_mental_health'] = 5\n",
        "# company_mental_health_discussion\n",
        "survey_data_with_clusters.loc[survey_data_with_clusters['company_mental_health_discussion'] == \"No\", 'company_mental_health_discussion'] = 0\n",
        "survey_data_with_clusters.loc[survey_data_with_clusters['company_mental_health_discussion'] == \"I don't know\", 'company_mental_health_discussion'] = 0 # Not knowing here is equal to having none\n",
        "survey_data_with_clusters.loc[survey_data_with_clusters['company_mental_health_discussion'] == \"Yes\", 'company_mental_health_discussion'] = 5\n",
        "# company_mental_health_resources \n",
        "survey_data_with_clusters.loc[survey_data_with_clusters['company_mental_health_resources'] == \"No\", 'company_mental_health_resources'] = 0\n",
        "survey_data_with_clusters.loc[survey_data_with_clusters['company_mental_health_resources'] == \"I don't know\", 'company_mental_health_resources'] = 0 # Not knowing here is equal to having none\n",
        "survey_data_with_clusters.loc[survey_data_with_clusters['company_mental_health_resources'] == \"Yes\", 'company_mental_health_resources'] = 5\n",
        "# company_mental_health_anonymity \n",
        "survey_data_with_clusters.loc[survey_data_with_clusters['company_mental_health_anonymity'] == \"No\", 'company_mental_health_anonymity'] = 0\n",
        "survey_data_with_clusters.loc[survey_data_with_clusters['company_mental_health_anonymity'] == \"I don't know\", 'company_mental_health_anonymity'] = 2 # This is not necessary to be communicated tho\n",
        "survey_data_with_clusters.loc[survey_data_with_clusters['company_mental_health_anonymity'] == \"Yes\", 'company_mental_health_anonymity'] = 5\n",
        "# company_mental_health_leave\n",
        "survey_data_with_clusters.loc[survey_data_with_clusters['company_mental_health_leave'] == \"Very easy\", 'company_mental_health_leave'] = 4\n",
        "survey_data_with_clusters.loc[survey_data_with_clusters['company_mental_health_leave'] == \"Somewhat easy\", 'company_mental_health_leave'] = 3\n",
        "survey_data_with_clusters.loc[survey_data_with_clusters['company_mental_health_leave'] == \"Neither easy nor difficult\", 'company_mental_health_leave'] = 2\n",
        "survey_data_with_clusters.loc[survey_data_with_clusters['company_mental_health_leave'] == \"Somewhat difficult\", 'company_mental_health_leave'] = 1\n",
        "survey_data_with_clusters.loc[survey_data_with_clusters['company_mental_health_leave'] == \"Very difficult\", 'company_mental_health_leave'] = 0\n",
        "survey_data_with_clusters.loc[survey_data_with_clusters['company_mental_health_leave'] == \"I don't know\", 'company_mental_health_leave'] = 0 # Not communicated => bad\n",
        "# company_mental_health_options_awareness\n",
        "survey_data_with_clusters.loc[survey_data_with_clusters['company_mental_health_options_awareness'] == \"No\", 'company_mental_health_options_awareness'] = 0\n",
        "survey_data_with_clusters.loc[survey_data_with_clusters['company_mental_health_options_awareness'] == \"I am not sure\", 'company_mental_health_options_awareness'] = 2\n",
        "survey_data_with_clusters.loc[survey_data_with_clusters['company_mental_health_options_awareness'] == \"Yes\", 'company_mental_health_options_awareness'] = 5\n",
        "# company_mental_health_discussion_impact\n",
        "survey_data_with_clusters.loc[survey_data_with_clusters['company_mental_health_discussion_impact'] == \"No\", 'company_mental_health_discussion_impact'] = 5\n",
        "survey_data_with_clusters.loc[survey_data_with_clusters['company_mental_health_discussion_impact'] == \"Maybe\", 'company_mental_health_discussion_impact'] = 1 \n",
        "survey_data_with_clusters.loc[survey_data_with_clusters['company_mental_health_discussion_impact'] == \"Yes\", 'company_mental_health_discussion_impact'] = 0\n",
        "# mental_health_coworkers_discussion\n",
        "survey_data_with_clusters.loc[survey_data_with_clusters['mental_health_coworkers_discussion'] == \"No\", 'mental_health_coworkers_discussion'] = 0\n",
        "survey_data_with_clusters.loc[survey_data_with_clusters['mental_health_coworkers_discussion'] == \"Maybe\", 'mental_health_coworkers_discussion'] = 3\n",
        "survey_data_with_clusters.loc[survey_data_with_clusters['mental_health_coworkers_discussion'] == \"Yes\", 'mental_health_coworkers_discussion'] = 5\n",
        "# company_mental_health_discussion\n",
        "survey_data_with_clusters.loc[survey_data_with_clusters['mental_health_supervisor_discussion'] == \"No\", 'mental_health_supervisor_discussion'] = 0\n",
        "survey_data_with_clusters.loc[survey_data_with_clusters['mental_health_supervisor_discussion'] == \"Maybe\", 'mental_health_supervisor_discussion'] = 3\n",
        "survey_data_with_clusters.loc[survey_data_with_clusters['mental_health_supervisor_discussion'] == \"Yes\", 'mental_health_supervisor_discussion'] = 5\n",
        "# company_mental_health_serious\n",
        "survey_data_with_clusters.loc[survey_data_with_clusters['company_mental_health_serious'] == \"No\", 'company_mental_health_serious'] = 0\n",
        "survey_data_with_clusters.loc[survey_data_with_clusters['company_mental_health_serious'] == \"I don't know\", 'company_mental_health_serious'] = 2\n",
        "survey_data_with_clusters.loc[survey_data_with_clusters['company_mental_health_serious'] == \"Yes\", 'company_mental_health_serious'] = 5\n",
        "# company_mental_health_coworker_discussion_negative_impact\n",
        "survey_data_with_clusters.loc[survey_data_with_clusters['company_mental_health_coworker_discussion_negative_impact'] == \"No\", 'company_mental_health_coworker_discussion_negative_impact'] = 5\n",
        "survey_data_with_clusters.loc[survey_data_with_clusters['company_mental_health_coworker_discussion_negative_impact'] == \"Yes\", 'company_mental_health_coworker_discussion_negative_impact'] = 0\n",
        "# previous_and_current_company_mental_health_bad_response_experienced\n",
        "survey_data_with_clusters.loc[survey_data_with_clusters['previous_and_current_company_mental_health_bad_response_experienced'] == \"No\", 'previous_and_current_company_mental_health_bad_response_experienced'] = 5\n",
        "survey_data_with_clusters.loc[survey_data_with_clusters['previous_and_current_company_mental_health_bad_response_experienced'] == \"Maybe/Not sure\", 'previous_and_current_company_mental_health_bad_response_experienced'] = 1 # Not knowing here is equal to having none\n",
        "survey_data_with_clusters.loc[survey_data_with_clusters['previous_and_current_company_mental_health_bad_response_experienced'] == \"Yes, I experienced\", 'previous_and_current_company_mental_health_bad_response_experienced'] = 0\n",
        "survey_data_with_clusters.loc[survey_data_with_clusters['previous_and_current_company_mental_health_bad_response_experienced'] == \"Yes, I observed\", 'previous_and_current_company_mental_health_bad_response_experienced'] = 0\n",
        "# mental_health_negative_impact_career\n",
        "survey_data_with_clusters.loc[survey_data_with_clusters['mental_health_negative_impact_career'] == \"No, I don't think it would\", 'mental_health_negative_impact_career'] = 5\n",
        "survey_data_with_clusters.loc[survey_data_with_clusters['mental_health_negative_impact_career'] == \"Maybe\", 'mental_health_negative_impact_career'] = 1\n",
        "survey_data_with_clusters.loc[survey_data_with_clusters['mental_health_negative_impact_career'] == \"No, it has not\", 'mental_health_negative_impact_career'] = 5\n",
        "survey_data_with_clusters.loc[survey_data_with_clusters['mental_health_negative_impact_career'] == \"Yes, I think it would\", 'mental_health_negative_impact_career'] = 0\n",
        "survey_data_with_clusters.loc[survey_data_with_clusters['mental_health_negative_impact_career'] == \"Yes, it has\", 'mental_health_negative_impact_career'] = 0\n",
        "# mental_health_negative_view_coworkersmental_health_negative_view_coworkers\n",
        "survey_data_with_clusters.loc[survey_data_with_clusters['mental_health_negative_view_coworkers'] == \"No, I don't think they would\", 'mental_health_negative_view_coworkers'] = 5\n",
        "survey_data_with_clusters.loc[survey_data_with_clusters['mental_health_negative_view_coworkers'] == \"Maybe\", 'mental_health_negative_view_coworkers'] = 1\n",
        "survey_data_with_clusters.loc[survey_data_with_clusters['mental_health_negative_view_coworkers'] == \"No, they do not\", 'mental_health_negative_view_coworkers'] = 5\n",
        "survey_data_with_clusters.loc[survey_data_with_clusters['mental_health_negative_view_coworkers'] == \"Yes, I think they would\", 'mental_health_negative_view_coworkers'] = 0\n",
        "survey_data_with_clusters.loc[survey_data_with_clusters['mental_health_negative_view_coworkers'] == \"Yes, they do\", 'mental_health_negative_view_coworkers'] = 0\n",
        "# mental_health_disorder_current\n",
        "survey_data_with_clusters.loc[survey_data_with_clusters['mental_health_disorder_current'] == \"Yes\", 'mental_health_disorder_current'] = 0\n",
        "survey_data_with_clusters.loc[survey_data_with_clusters['mental_health_disorder_current'] == \"Maybe\", 'mental_health_disorder_current'] = 0 # Thinking having one is as bad as having one for sure\n",
        "survey_data_with_clusters.loc[survey_data_with_clusters['mental_health_disorder_current'] == \"No\", 'mental_health_disorder_current'] = 5 # Because of rating"
      ]
    },
    {
      "cell_type": "code",
      "execution_count": 69,
      "metadata": {
        "colab": {
          "base_uri": "https://localhost:8080/",
          "height": 206
        },
        "id": "G8RepszR5QIE",
        "outputId": "67f7775a-d337-4b85-91e8-e113b5d54557"
      },
      "outputs": [
        {
          "name": "stdout",
          "output_type": "stream",
          "text": [
            "company_mental_health [2 0 5]\n",
            "company_mental_health_discussion [0 5]\n",
            "company_mental_health_resources [0 5]\n",
            "company_mental_health_anonymity [2 5 0]\n",
            "company_mental_health_leave [4 3 2 0 1]\n",
            "company_mental_health_options_awareness [0 5 2]\n",
            "company_mental_health_discussion_impact [5 1 0]\n",
            "mental_health_coworkers_discussion [3 5 0]\n",
            "mental_health_supervisor_discussion [5 3 0]\n",
            "company_mental_health_serious [2 5 0]\n",
            "company_mental_health_coworker_discussion_negative_impact [5 0]\n",
            "previous_and_current_company_mental_health_bad_response_experienced [5 1 0]\n",
            "mental_health_negative_impact_career [1 5 0]\n",
            "mental_health_negative_view_coworkers [5 1 0]\n",
            "mental_health_disorder_current [5 0]\n"
          ]
        }
      ],
      "source": [
        "for col in survey_data_with_clusters:\n",
        "    print(str(col) + \" \" + str(survey_data_with_clusters[col].unique()))\n"
      ]
    },
    {
      "cell_type": "code",
      "execution_count": 70,
      "metadata": {
        "colab": {
          "base_uri": "https://localhost:8080/",
          "height": 175
        },
        "id": "Dt8T9ETT5QK4",
        "outputId": "6149b296-5395-4ace-ea6c-6f8b51b48a8b"
      },
      "outputs": [
        {
          "data": {
            "application/vnd.plotly.v1+json": {
              "config": {
                "plotlyServerURL": "https://plot.ly"
              },
              "data": [
                {
                  "type": "scatter",
                  "x": [
                    1,
                    2,
                    3,
                    4,
                    5,
                    6,
                    7,
                    8,
                    9,
                    10
                  ],
                  "y": [
                    3155.2476587578512,
                    2676.20281520717,
                    2400.862379605369,
                    2181.7626285875904,
                    2037.9513114178071,
                    1937.7235146616754,
                    1844.2685248734042,
                    1771.6765541759305,
                    1716.640108490707,
                    1649.8562921623845
                  ]
                }
              ],
              "layout": {
                "annotations": [
                  {
                    "arrowhead": 7,
                    "ax": 20,
                    "ay": -40,
                    "showarrow": true,
                    "text": "Elbow!",
                    "x": 3,
                    "xref": "x",
                    "y": 2400.862379605369,
                    "yref": "y"
                  }
                ],
                "template": {
                  "data": {
                    "bar": [
                      {
                        "error_x": {
                          "color": "#2a3f5f"
                        },
                        "error_y": {
                          "color": "#2a3f5f"
                        },
                        "marker": {
                          "line": {
                            "color": "#E5ECF6",
                            "width": 0.5
                          },
                          "pattern": {
                            "fillmode": "overlay",
                            "size": 10,
                            "solidity": 0.2
                          }
                        },
                        "type": "bar"
                      }
                    ],
                    "barpolar": [
                      {
                        "marker": {
                          "line": {
                            "color": "#E5ECF6",
                            "width": 0.5
                          },
                          "pattern": {
                            "fillmode": "overlay",
                            "size": 10,
                            "solidity": 0.2
                          }
                        },
                        "type": "barpolar"
                      }
                    ],
                    "carpet": [
                      {
                        "aaxis": {
                          "endlinecolor": "#2a3f5f",
                          "gridcolor": "white",
                          "linecolor": "white",
                          "minorgridcolor": "white",
                          "startlinecolor": "#2a3f5f"
                        },
                        "baxis": {
                          "endlinecolor": "#2a3f5f",
                          "gridcolor": "white",
                          "linecolor": "white",
                          "minorgridcolor": "white",
                          "startlinecolor": "#2a3f5f"
                        },
                        "type": "carpet"
                      }
                    ],
                    "choropleth": [
                      {
                        "colorbar": {
                          "outlinewidth": 0,
                          "ticks": ""
                        },
                        "type": "choropleth"
                      }
                    ],
                    "contour": [
                      {
                        "colorbar": {
                          "outlinewidth": 0,
                          "ticks": ""
                        },
                        "colorscale": [
                          [
                            0,
                            "#0d0887"
                          ],
                          [
                            0.1111111111111111,
                            "#46039f"
                          ],
                          [
                            0.2222222222222222,
                            "#7201a8"
                          ],
                          [
                            0.3333333333333333,
                            "#9c179e"
                          ],
                          [
                            0.4444444444444444,
                            "#bd3786"
                          ],
                          [
                            0.5555555555555556,
                            "#d8576b"
                          ],
                          [
                            0.6666666666666666,
                            "#ed7953"
                          ],
                          [
                            0.7777777777777778,
                            "#fb9f3a"
                          ],
                          [
                            0.8888888888888888,
                            "#fdca26"
                          ],
                          [
                            1,
                            "#f0f921"
                          ]
                        ],
                        "type": "contour"
                      }
                    ],
                    "contourcarpet": [
                      {
                        "colorbar": {
                          "outlinewidth": 0,
                          "ticks": ""
                        },
                        "type": "contourcarpet"
                      }
                    ],
                    "heatmap": [
                      {
                        "colorbar": {
                          "outlinewidth": 0,
                          "ticks": ""
                        },
                        "colorscale": [
                          [
                            0,
                            "#0d0887"
                          ],
                          [
                            0.1111111111111111,
                            "#46039f"
                          ],
                          [
                            0.2222222222222222,
                            "#7201a8"
                          ],
                          [
                            0.3333333333333333,
                            "#9c179e"
                          ],
                          [
                            0.4444444444444444,
                            "#bd3786"
                          ],
                          [
                            0.5555555555555556,
                            "#d8576b"
                          ],
                          [
                            0.6666666666666666,
                            "#ed7953"
                          ],
                          [
                            0.7777777777777778,
                            "#fb9f3a"
                          ],
                          [
                            0.8888888888888888,
                            "#fdca26"
                          ],
                          [
                            1,
                            "#f0f921"
                          ]
                        ],
                        "type": "heatmap"
                      }
                    ],
                    "heatmapgl": [
                      {
                        "colorbar": {
                          "outlinewidth": 0,
                          "ticks": ""
                        },
                        "colorscale": [
                          [
                            0,
                            "#0d0887"
                          ],
                          [
                            0.1111111111111111,
                            "#46039f"
                          ],
                          [
                            0.2222222222222222,
                            "#7201a8"
                          ],
                          [
                            0.3333333333333333,
                            "#9c179e"
                          ],
                          [
                            0.4444444444444444,
                            "#bd3786"
                          ],
                          [
                            0.5555555555555556,
                            "#d8576b"
                          ],
                          [
                            0.6666666666666666,
                            "#ed7953"
                          ],
                          [
                            0.7777777777777778,
                            "#fb9f3a"
                          ],
                          [
                            0.8888888888888888,
                            "#fdca26"
                          ],
                          [
                            1,
                            "#f0f921"
                          ]
                        ],
                        "type": "heatmapgl"
                      }
                    ],
                    "histogram": [
                      {
                        "marker": {
                          "pattern": {
                            "fillmode": "overlay",
                            "size": 10,
                            "solidity": 0.2
                          }
                        },
                        "type": "histogram"
                      }
                    ],
                    "histogram2d": [
                      {
                        "colorbar": {
                          "outlinewidth": 0,
                          "ticks": ""
                        },
                        "colorscale": [
                          [
                            0,
                            "#0d0887"
                          ],
                          [
                            0.1111111111111111,
                            "#46039f"
                          ],
                          [
                            0.2222222222222222,
                            "#7201a8"
                          ],
                          [
                            0.3333333333333333,
                            "#9c179e"
                          ],
                          [
                            0.4444444444444444,
                            "#bd3786"
                          ],
                          [
                            0.5555555555555556,
                            "#d8576b"
                          ],
                          [
                            0.6666666666666666,
                            "#ed7953"
                          ],
                          [
                            0.7777777777777778,
                            "#fb9f3a"
                          ],
                          [
                            0.8888888888888888,
                            "#fdca26"
                          ],
                          [
                            1,
                            "#f0f921"
                          ]
                        ],
                        "type": "histogram2d"
                      }
                    ],
                    "histogram2dcontour": [
                      {
                        "colorbar": {
                          "outlinewidth": 0,
                          "ticks": ""
                        },
                        "colorscale": [
                          [
                            0,
                            "#0d0887"
                          ],
                          [
                            0.1111111111111111,
                            "#46039f"
                          ],
                          [
                            0.2222222222222222,
                            "#7201a8"
                          ],
                          [
                            0.3333333333333333,
                            "#9c179e"
                          ],
                          [
                            0.4444444444444444,
                            "#bd3786"
                          ],
                          [
                            0.5555555555555556,
                            "#d8576b"
                          ],
                          [
                            0.6666666666666666,
                            "#ed7953"
                          ],
                          [
                            0.7777777777777778,
                            "#fb9f3a"
                          ],
                          [
                            0.8888888888888888,
                            "#fdca26"
                          ],
                          [
                            1,
                            "#f0f921"
                          ]
                        ],
                        "type": "histogram2dcontour"
                      }
                    ],
                    "mesh3d": [
                      {
                        "colorbar": {
                          "outlinewidth": 0,
                          "ticks": ""
                        },
                        "type": "mesh3d"
                      }
                    ],
                    "parcoords": [
                      {
                        "line": {
                          "colorbar": {
                            "outlinewidth": 0,
                            "ticks": ""
                          }
                        },
                        "type": "parcoords"
                      }
                    ],
                    "pie": [
                      {
                        "automargin": true,
                        "type": "pie"
                      }
                    ],
                    "scatter": [
                      {
                        "fillpattern": {
                          "fillmode": "overlay",
                          "size": 10,
                          "solidity": 0.2
                        },
                        "type": "scatter"
                      }
                    ],
                    "scatter3d": [
                      {
                        "line": {
                          "colorbar": {
                            "outlinewidth": 0,
                            "ticks": ""
                          }
                        },
                        "marker": {
                          "colorbar": {
                            "outlinewidth": 0,
                            "ticks": ""
                          }
                        },
                        "type": "scatter3d"
                      }
                    ],
                    "scattercarpet": [
                      {
                        "marker": {
                          "colorbar": {
                            "outlinewidth": 0,
                            "ticks": ""
                          }
                        },
                        "type": "scattercarpet"
                      }
                    ],
                    "scattergeo": [
                      {
                        "marker": {
                          "colorbar": {
                            "outlinewidth": 0,
                            "ticks": ""
                          }
                        },
                        "type": "scattergeo"
                      }
                    ],
                    "scattergl": [
                      {
                        "marker": {
                          "colorbar": {
                            "outlinewidth": 0,
                            "ticks": ""
                          }
                        },
                        "type": "scattergl"
                      }
                    ],
                    "scattermapbox": [
                      {
                        "marker": {
                          "colorbar": {
                            "outlinewidth": 0,
                            "ticks": ""
                          }
                        },
                        "type": "scattermapbox"
                      }
                    ],
                    "scatterpolar": [
                      {
                        "marker": {
                          "colorbar": {
                            "outlinewidth": 0,
                            "ticks": ""
                          }
                        },
                        "type": "scatterpolar"
                      }
                    ],
                    "scatterpolargl": [
                      {
                        "marker": {
                          "colorbar": {
                            "outlinewidth": 0,
                            "ticks": ""
                          }
                        },
                        "type": "scatterpolargl"
                      }
                    ],
                    "scatterternary": [
                      {
                        "marker": {
                          "colorbar": {
                            "outlinewidth": 0,
                            "ticks": ""
                          }
                        },
                        "type": "scatterternary"
                      }
                    ],
                    "surface": [
                      {
                        "colorbar": {
                          "outlinewidth": 0,
                          "ticks": ""
                        },
                        "colorscale": [
                          [
                            0,
                            "#0d0887"
                          ],
                          [
                            0.1111111111111111,
                            "#46039f"
                          ],
                          [
                            0.2222222222222222,
                            "#7201a8"
                          ],
                          [
                            0.3333333333333333,
                            "#9c179e"
                          ],
                          [
                            0.4444444444444444,
                            "#bd3786"
                          ],
                          [
                            0.5555555555555556,
                            "#d8576b"
                          ],
                          [
                            0.6666666666666666,
                            "#ed7953"
                          ],
                          [
                            0.7777777777777778,
                            "#fb9f3a"
                          ],
                          [
                            0.8888888888888888,
                            "#fdca26"
                          ],
                          [
                            1,
                            "#f0f921"
                          ]
                        ],
                        "type": "surface"
                      }
                    ],
                    "table": [
                      {
                        "cells": {
                          "fill": {
                            "color": "#EBF0F8"
                          },
                          "line": {
                            "color": "white"
                          }
                        },
                        "header": {
                          "fill": {
                            "color": "#C8D4E3"
                          },
                          "line": {
                            "color": "white"
                          }
                        },
                        "type": "table"
                      }
                    ]
                  },
                  "layout": {
                    "annotationdefaults": {
                      "arrowcolor": "#2a3f5f",
                      "arrowhead": 0,
                      "arrowwidth": 1
                    },
                    "autotypenumbers": "strict",
                    "coloraxis": {
                      "colorbar": {
                        "outlinewidth": 0,
                        "ticks": ""
                      }
                    },
                    "colorscale": {
                      "diverging": [
                        [
                          0,
                          "#8e0152"
                        ],
                        [
                          0.1,
                          "#c51b7d"
                        ],
                        [
                          0.2,
                          "#de77ae"
                        ],
                        [
                          0.3,
                          "#f1b6da"
                        ],
                        [
                          0.4,
                          "#fde0ef"
                        ],
                        [
                          0.5,
                          "#f7f7f7"
                        ],
                        [
                          0.6,
                          "#e6f5d0"
                        ],
                        [
                          0.7,
                          "#b8e186"
                        ],
                        [
                          0.8,
                          "#7fbc41"
                        ],
                        [
                          0.9,
                          "#4d9221"
                        ],
                        [
                          1,
                          "#276419"
                        ]
                      ],
                      "sequential": [
                        [
                          0,
                          "#0d0887"
                        ],
                        [
                          0.1111111111111111,
                          "#46039f"
                        ],
                        [
                          0.2222222222222222,
                          "#7201a8"
                        ],
                        [
                          0.3333333333333333,
                          "#9c179e"
                        ],
                        [
                          0.4444444444444444,
                          "#bd3786"
                        ],
                        [
                          0.5555555555555556,
                          "#d8576b"
                        ],
                        [
                          0.6666666666666666,
                          "#ed7953"
                        ],
                        [
                          0.7777777777777778,
                          "#fb9f3a"
                        ],
                        [
                          0.8888888888888888,
                          "#fdca26"
                        ],
                        [
                          1,
                          "#f0f921"
                        ]
                      ],
                      "sequentialminus": [
                        [
                          0,
                          "#0d0887"
                        ],
                        [
                          0.1111111111111111,
                          "#46039f"
                        ],
                        [
                          0.2222222222222222,
                          "#7201a8"
                        ],
                        [
                          0.3333333333333333,
                          "#9c179e"
                        ],
                        [
                          0.4444444444444444,
                          "#bd3786"
                        ],
                        [
                          0.5555555555555556,
                          "#d8576b"
                        ],
                        [
                          0.6666666666666666,
                          "#ed7953"
                        ],
                        [
                          0.7777777777777778,
                          "#fb9f3a"
                        ],
                        [
                          0.8888888888888888,
                          "#fdca26"
                        ],
                        [
                          1,
                          "#f0f921"
                        ]
                      ]
                    },
                    "colorway": [
                      "#636efa",
                      "#EF553B",
                      "#00cc96",
                      "#ab63fa",
                      "#FFA15A",
                      "#19d3f3",
                      "#FF6692",
                      "#B6E880",
                      "#FF97FF",
                      "#FECB52"
                    ],
                    "font": {
                      "color": "#2a3f5f"
                    },
                    "geo": {
                      "bgcolor": "white",
                      "lakecolor": "white",
                      "landcolor": "#E5ECF6",
                      "showlakes": true,
                      "showland": true,
                      "subunitcolor": "white"
                    },
                    "hoverlabel": {
                      "align": "left"
                    },
                    "hovermode": "closest",
                    "mapbox": {
                      "style": "light"
                    },
                    "paper_bgcolor": "white",
                    "plot_bgcolor": "#E5ECF6",
                    "polar": {
                      "angularaxis": {
                        "gridcolor": "white",
                        "linecolor": "white",
                        "ticks": ""
                      },
                      "bgcolor": "#E5ECF6",
                      "radialaxis": {
                        "gridcolor": "white",
                        "linecolor": "white",
                        "ticks": ""
                      }
                    },
                    "scene": {
                      "xaxis": {
                        "backgroundcolor": "#E5ECF6",
                        "gridcolor": "white",
                        "gridwidth": 2,
                        "linecolor": "white",
                        "showbackground": true,
                        "ticks": "",
                        "zerolinecolor": "white"
                      },
                      "yaxis": {
                        "backgroundcolor": "#E5ECF6",
                        "gridcolor": "white",
                        "gridwidth": 2,
                        "linecolor": "white",
                        "showbackground": true,
                        "ticks": "",
                        "zerolinecolor": "white"
                      },
                      "zaxis": {
                        "backgroundcolor": "#E5ECF6",
                        "gridcolor": "white",
                        "gridwidth": 2,
                        "linecolor": "white",
                        "showbackground": true,
                        "ticks": "",
                        "zerolinecolor": "white"
                      }
                    },
                    "shapedefaults": {
                      "line": {
                        "color": "#2a3f5f"
                      }
                    },
                    "ternary": {
                      "aaxis": {
                        "gridcolor": "white",
                        "linecolor": "white",
                        "ticks": ""
                      },
                      "baxis": {
                        "gridcolor": "white",
                        "linecolor": "white",
                        "ticks": ""
                      },
                      "bgcolor": "#E5ECF6",
                      "caxis": {
                        "gridcolor": "white",
                        "linecolor": "white",
                        "ticks": ""
                      }
                    },
                    "title": {
                      "x": 0.05
                    },
                    "xaxis": {
                      "automargin": true,
                      "gridcolor": "white",
                      "linecolor": "white",
                      "ticks": "",
                      "title": {
                        "standoff": 15
                      },
                      "zerolinecolor": "white",
                      "zerolinewidth": 2
                    },
                    "yaxis": {
                      "automargin": true,
                      "gridcolor": "white",
                      "linecolor": "white",
                      "ticks": "",
                      "title": {
                        "standoff": 15
                      },
                      "zerolinecolor": "white",
                      "zerolinewidth": 2
                    }
                  }
                },
                "title": {
                  "text": "Inertia vs Cluster Number"
                },
                "xaxis": {
                  "range": [
                    0,
                    11
                  ],
                  "title": {
                    "text": "Cluster Number"
                  }
                },
                "yaxis": {
                  "title": {
                    "text": "Inertia"
                  }
                }
              }
            }
          },
          "metadata": {},
          "output_type": "display_data"
        }
      ],
      "source": [
        "from sklearn.cluster import KMeans\n",
        "from sklearn.preprocessing import MinMaxScaler\n",
        "import plotly.graph_objects as go\n",
        "import numpy as np\n",
        "X = survey_data_with_clusters.copy()\n",
        "scaler = MinMaxScaler()\n",
        "scaler.fit(X)\n",
        "X=scaler.transform(X)\n",
        "inertia = []\n",
        "for i in range(1,11):\n",
        "    kmeans = KMeans(\n",
        "        n_clusters=i, init=\"k-means++\",\n",
        "        n_init=10,\n",
        "        tol=1e-04, random_state=42\n",
        "    )\n",
        "    kmeans.fit(X)\n",
        "    inertia.append(kmeans.inertia_)\n",
        "fig = go.Figure(data=go.Scatter(x=np.arange(1,11),y=inertia))\n",
        "fig.update_layout(title=\"Inertia vs Cluster Number\",xaxis=dict(range=[0,11],title=\"Cluster Number\"),\n",
        "                  yaxis={'title':'Inertia'},\n",
        "                 annotations=[\n",
        "        dict(\n",
        "            x=3,\n",
        "            y=inertia[2],\n",
        "            xref=\"x\",\n",
        "            yref=\"y\",\n",
        "            text=\"Elbow!\",\n",
        "            showarrow=True,\n",
        "            arrowhead=7,\n",
        "            ax=20,\n",
        "            ay=-40\n",
        "        )\n",
        "    ])\n"
      ]
    },
    {
      "cell_type": "code",
      "execution_count": 57,
      "metadata": {},
      "outputs": [
        {
          "data": {
            "application/vnd.plotly.v1+json": {
              "config": {
                "plotlyServerURL": "https://plot.ly"
              },
              "data": [
                {
                  "hovertemplate": "label=0<br>value=%{r}<br>variable=%{theta}<extra></extra>",
                  "legendgroup": "0",
                  "line": {
                    "color": "#636efa",
                    "dash": "solid"
                  },
                  "marker": {
                    "symbol": "circle"
                  },
                  "mode": "lines",
                  "name": "0",
                  "r": [
                    0.5322505800464037,
                    0.35962877030162416,
                    0.3874709976798144,
                    0.6561484918793504,
                    0.7470997679814385,
                    0.44129930394431555,
                    0.888631090487239,
                    0.7392111368909513,
                    0.8728538283062645,
                    0.7424593967517401,
                    0.962877030162413,
                    0.6895591647331786,
                    0.4074245939675174,
                    0.6784222737819025,
                    0.4965197215777262,
                    0.5322505800464037
                  ],
                  "showlegend": true,
                  "subplot": "polar",
                  "theta": [
                    "company_mental_health",
                    "company_mental_health_discussion",
                    "company_mental_health_resources",
                    "company_mental_health_anonymity",
                    "company_mental_health_leave",
                    "company_mental_health_options_awareness",
                    "company_mental_health_discussion_impact",
                    "mental_health_coworkers_discussion",
                    "mental_health_supervisor_discussion",
                    "company_mental_health_serious",
                    "company_mental_health_coworker_discussion_negative_impact",
                    "previous_and_current_company_mental_health_bad_response_experienced",
                    "mental_health_negative_impact_career",
                    "mental_health_negative_view_coworkers",
                    "mental_health_disorder_current",
                    "company_mental_health"
                  ],
                  "type": "scatterpolar"
                },
                {
                  "hovertemplate": "label=1<br>value=%{r}<br>variable=%{theta}<extra></extra>",
                  "legendgroup": "1",
                  "line": {
                    "color": "#EF553B",
                    "dash": "solid"
                  },
                  "marker": {
                    "symbol": "circle"
                  },
                  "mode": "lines",
                  "name": "1",
                  "r": [
                    0.968958742632613,
                    0.060903732809430254,
                    0.11591355599214145,
                    0.47072691552062873,
                    0.6208251473477406,
                    0.24715127701375245,
                    0.2337917485265226,
                    0.5897838899803537,
                    0.8738703339882122,
                    0.3948919449901768,
                    0.9666011787819253,
                    0.39646365422396856,
                    0.15913555992141454,
                    0.2455795677799607,
                    0.27111984282907664,
                    0.968958742632613
                  ],
                  "showlegend": true,
                  "subplot": "polar",
                  "theta": [
                    "company_mental_health",
                    "company_mental_health_discussion",
                    "company_mental_health_resources",
                    "company_mental_health_anonymity",
                    "company_mental_health_leave",
                    "company_mental_health_options_awareness",
                    "company_mental_health_discussion_impact",
                    "mental_health_coworkers_discussion",
                    "mental_health_supervisor_discussion",
                    "company_mental_health_serious",
                    "company_mental_health_coworker_discussion_negative_impact",
                    "previous_and_current_company_mental_health_bad_response_experienced",
                    "mental_health_negative_impact_career",
                    "mental_health_negative_view_coworkers",
                    "mental_health_disorder_current",
                    "company_mental_health"
                  ],
                  "type": "scatterpolar"
                },
                {
                  "hovertemplate": "label=2<br>value=%{r}<br>variable=%{theta}<extra></extra>",
                  "legendgroup": "2",
                  "line": {
                    "color": "#00cc96",
                    "dash": "solid"
                  },
                  "marker": {
                    "symbol": "circle"
                  },
                  "mode": "lines",
                  "name": "2",
                  "r": [
                    0.2608519269776876,
                    0.08924949290060852,
                    0.13995943204868155,
                    0.4243407707910751,
                    0.29766734279918866,
                    0.267342799188641,
                    0.18417849898580121,
                    0.23488843813387425,
                    0.24989858012170388,
                    0.28600405679513186,
                    0.8681541582150102,
                    0.4588235294117647,
                    0.07707910750507099,
                    0.19837728194726165,
                    0.3630831643002028,
                    0.2608519269776876
                  ],
                  "showlegend": true,
                  "subplot": "polar",
                  "theta": [
                    "company_mental_health",
                    "company_mental_health_discussion",
                    "company_mental_health_resources",
                    "company_mental_health_anonymity",
                    "company_mental_health_leave",
                    "company_mental_health_options_awareness",
                    "company_mental_health_discussion_impact",
                    "mental_health_coworkers_discussion",
                    "mental_health_supervisor_discussion",
                    "company_mental_health_serious",
                    "company_mental_health_coworker_discussion_negative_impact",
                    "previous_and_current_company_mental_health_bad_response_experienced",
                    "mental_health_negative_impact_career",
                    "mental_health_negative_view_coworkers",
                    "mental_health_disorder_current",
                    "company_mental_health"
                  ],
                  "type": "scatterpolar"
                }
              ],
              "layout": {
                "height": 600,
                "legend": {
                  "title": {
                    "text": "label"
                  },
                  "tracegroupgap": 0
                },
                "margin": {
                  "t": 60
                },
                "polar": {
                  "angularaxis": {
                    "direction": "clockwise",
                    "rotation": 90
                  },
                  "domain": {
                    "x": [
                      0,
                      1
                    ],
                    "y": [
                      0,
                      1
                    ]
                  }
                },
                "template": {
                  "data": {
                    "bar": [
                      {
                        "error_x": {
                          "color": "#2a3f5f"
                        },
                        "error_y": {
                          "color": "#2a3f5f"
                        },
                        "marker": {
                          "line": {
                            "color": "#E5ECF6",
                            "width": 0.5
                          },
                          "pattern": {
                            "fillmode": "overlay",
                            "size": 10,
                            "solidity": 0.2
                          }
                        },
                        "type": "bar"
                      }
                    ],
                    "barpolar": [
                      {
                        "marker": {
                          "line": {
                            "color": "#E5ECF6",
                            "width": 0.5
                          },
                          "pattern": {
                            "fillmode": "overlay",
                            "size": 10,
                            "solidity": 0.2
                          }
                        },
                        "type": "barpolar"
                      }
                    ],
                    "carpet": [
                      {
                        "aaxis": {
                          "endlinecolor": "#2a3f5f",
                          "gridcolor": "white",
                          "linecolor": "white",
                          "minorgridcolor": "white",
                          "startlinecolor": "#2a3f5f"
                        },
                        "baxis": {
                          "endlinecolor": "#2a3f5f",
                          "gridcolor": "white",
                          "linecolor": "white",
                          "minorgridcolor": "white",
                          "startlinecolor": "#2a3f5f"
                        },
                        "type": "carpet"
                      }
                    ],
                    "choropleth": [
                      {
                        "colorbar": {
                          "outlinewidth": 0,
                          "ticks": ""
                        },
                        "type": "choropleth"
                      }
                    ],
                    "contour": [
                      {
                        "colorbar": {
                          "outlinewidth": 0,
                          "ticks": ""
                        },
                        "colorscale": [
                          [
                            0,
                            "#0d0887"
                          ],
                          [
                            0.1111111111111111,
                            "#46039f"
                          ],
                          [
                            0.2222222222222222,
                            "#7201a8"
                          ],
                          [
                            0.3333333333333333,
                            "#9c179e"
                          ],
                          [
                            0.4444444444444444,
                            "#bd3786"
                          ],
                          [
                            0.5555555555555556,
                            "#d8576b"
                          ],
                          [
                            0.6666666666666666,
                            "#ed7953"
                          ],
                          [
                            0.7777777777777778,
                            "#fb9f3a"
                          ],
                          [
                            0.8888888888888888,
                            "#fdca26"
                          ],
                          [
                            1,
                            "#f0f921"
                          ]
                        ],
                        "type": "contour"
                      }
                    ],
                    "contourcarpet": [
                      {
                        "colorbar": {
                          "outlinewidth": 0,
                          "ticks": ""
                        },
                        "type": "contourcarpet"
                      }
                    ],
                    "heatmap": [
                      {
                        "colorbar": {
                          "outlinewidth": 0,
                          "ticks": ""
                        },
                        "colorscale": [
                          [
                            0,
                            "#0d0887"
                          ],
                          [
                            0.1111111111111111,
                            "#46039f"
                          ],
                          [
                            0.2222222222222222,
                            "#7201a8"
                          ],
                          [
                            0.3333333333333333,
                            "#9c179e"
                          ],
                          [
                            0.4444444444444444,
                            "#bd3786"
                          ],
                          [
                            0.5555555555555556,
                            "#d8576b"
                          ],
                          [
                            0.6666666666666666,
                            "#ed7953"
                          ],
                          [
                            0.7777777777777778,
                            "#fb9f3a"
                          ],
                          [
                            0.8888888888888888,
                            "#fdca26"
                          ],
                          [
                            1,
                            "#f0f921"
                          ]
                        ],
                        "type": "heatmap"
                      }
                    ],
                    "heatmapgl": [
                      {
                        "colorbar": {
                          "outlinewidth": 0,
                          "ticks": ""
                        },
                        "colorscale": [
                          [
                            0,
                            "#0d0887"
                          ],
                          [
                            0.1111111111111111,
                            "#46039f"
                          ],
                          [
                            0.2222222222222222,
                            "#7201a8"
                          ],
                          [
                            0.3333333333333333,
                            "#9c179e"
                          ],
                          [
                            0.4444444444444444,
                            "#bd3786"
                          ],
                          [
                            0.5555555555555556,
                            "#d8576b"
                          ],
                          [
                            0.6666666666666666,
                            "#ed7953"
                          ],
                          [
                            0.7777777777777778,
                            "#fb9f3a"
                          ],
                          [
                            0.8888888888888888,
                            "#fdca26"
                          ],
                          [
                            1,
                            "#f0f921"
                          ]
                        ],
                        "type": "heatmapgl"
                      }
                    ],
                    "histogram": [
                      {
                        "marker": {
                          "pattern": {
                            "fillmode": "overlay",
                            "size": 10,
                            "solidity": 0.2
                          }
                        },
                        "type": "histogram"
                      }
                    ],
                    "histogram2d": [
                      {
                        "colorbar": {
                          "outlinewidth": 0,
                          "ticks": ""
                        },
                        "colorscale": [
                          [
                            0,
                            "#0d0887"
                          ],
                          [
                            0.1111111111111111,
                            "#46039f"
                          ],
                          [
                            0.2222222222222222,
                            "#7201a8"
                          ],
                          [
                            0.3333333333333333,
                            "#9c179e"
                          ],
                          [
                            0.4444444444444444,
                            "#bd3786"
                          ],
                          [
                            0.5555555555555556,
                            "#d8576b"
                          ],
                          [
                            0.6666666666666666,
                            "#ed7953"
                          ],
                          [
                            0.7777777777777778,
                            "#fb9f3a"
                          ],
                          [
                            0.8888888888888888,
                            "#fdca26"
                          ],
                          [
                            1,
                            "#f0f921"
                          ]
                        ],
                        "type": "histogram2d"
                      }
                    ],
                    "histogram2dcontour": [
                      {
                        "colorbar": {
                          "outlinewidth": 0,
                          "ticks": ""
                        },
                        "colorscale": [
                          [
                            0,
                            "#0d0887"
                          ],
                          [
                            0.1111111111111111,
                            "#46039f"
                          ],
                          [
                            0.2222222222222222,
                            "#7201a8"
                          ],
                          [
                            0.3333333333333333,
                            "#9c179e"
                          ],
                          [
                            0.4444444444444444,
                            "#bd3786"
                          ],
                          [
                            0.5555555555555556,
                            "#d8576b"
                          ],
                          [
                            0.6666666666666666,
                            "#ed7953"
                          ],
                          [
                            0.7777777777777778,
                            "#fb9f3a"
                          ],
                          [
                            0.8888888888888888,
                            "#fdca26"
                          ],
                          [
                            1,
                            "#f0f921"
                          ]
                        ],
                        "type": "histogram2dcontour"
                      }
                    ],
                    "mesh3d": [
                      {
                        "colorbar": {
                          "outlinewidth": 0,
                          "ticks": ""
                        },
                        "type": "mesh3d"
                      }
                    ],
                    "parcoords": [
                      {
                        "line": {
                          "colorbar": {
                            "outlinewidth": 0,
                            "ticks": ""
                          }
                        },
                        "type": "parcoords"
                      }
                    ],
                    "pie": [
                      {
                        "automargin": true,
                        "type": "pie"
                      }
                    ],
                    "scatter": [
                      {
                        "fillpattern": {
                          "fillmode": "overlay",
                          "size": 10,
                          "solidity": 0.2
                        },
                        "type": "scatter"
                      }
                    ],
                    "scatter3d": [
                      {
                        "line": {
                          "colorbar": {
                            "outlinewidth": 0,
                            "ticks": ""
                          }
                        },
                        "marker": {
                          "colorbar": {
                            "outlinewidth": 0,
                            "ticks": ""
                          }
                        },
                        "type": "scatter3d"
                      }
                    ],
                    "scattercarpet": [
                      {
                        "marker": {
                          "colorbar": {
                            "outlinewidth": 0,
                            "ticks": ""
                          }
                        },
                        "type": "scattercarpet"
                      }
                    ],
                    "scattergeo": [
                      {
                        "marker": {
                          "colorbar": {
                            "outlinewidth": 0,
                            "ticks": ""
                          }
                        },
                        "type": "scattergeo"
                      }
                    ],
                    "scattergl": [
                      {
                        "marker": {
                          "colorbar": {
                            "outlinewidth": 0,
                            "ticks": ""
                          }
                        },
                        "type": "scattergl"
                      }
                    ],
                    "scattermapbox": [
                      {
                        "marker": {
                          "colorbar": {
                            "outlinewidth": 0,
                            "ticks": ""
                          }
                        },
                        "type": "scattermapbox"
                      }
                    ],
                    "scatterpolar": [
                      {
                        "marker": {
                          "colorbar": {
                            "outlinewidth": 0,
                            "ticks": ""
                          }
                        },
                        "type": "scatterpolar"
                      }
                    ],
                    "scatterpolargl": [
                      {
                        "marker": {
                          "colorbar": {
                            "outlinewidth": 0,
                            "ticks": ""
                          }
                        },
                        "type": "scatterpolargl"
                      }
                    ],
                    "scatterternary": [
                      {
                        "marker": {
                          "colorbar": {
                            "outlinewidth": 0,
                            "ticks": ""
                          }
                        },
                        "type": "scatterternary"
                      }
                    ],
                    "surface": [
                      {
                        "colorbar": {
                          "outlinewidth": 0,
                          "ticks": ""
                        },
                        "colorscale": [
                          [
                            0,
                            "#0d0887"
                          ],
                          [
                            0.1111111111111111,
                            "#46039f"
                          ],
                          [
                            0.2222222222222222,
                            "#7201a8"
                          ],
                          [
                            0.3333333333333333,
                            "#9c179e"
                          ],
                          [
                            0.4444444444444444,
                            "#bd3786"
                          ],
                          [
                            0.5555555555555556,
                            "#d8576b"
                          ],
                          [
                            0.6666666666666666,
                            "#ed7953"
                          ],
                          [
                            0.7777777777777778,
                            "#fb9f3a"
                          ],
                          [
                            0.8888888888888888,
                            "#fdca26"
                          ],
                          [
                            1,
                            "#f0f921"
                          ]
                        ],
                        "type": "surface"
                      }
                    ],
                    "table": [
                      {
                        "cells": {
                          "fill": {
                            "color": "#EBF0F8"
                          },
                          "line": {
                            "color": "white"
                          }
                        },
                        "header": {
                          "fill": {
                            "color": "#C8D4E3"
                          },
                          "line": {
                            "color": "white"
                          }
                        },
                        "type": "table"
                      }
                    ]
                  },
                  "layout": {
                    "annotationdefaults": {
                      "arrowcolor": "#2a3f5f",
                      "arrowhead": 0,
                      "arrowwidth": 1
                    },
                    "autotypenumbers": "strict",
                    "coloraxis": {
                      "colorbar": {
                        "outlinewidth": 0,
                        "ticks": ""
                      }
                    },
                    "colorscale": {
                      "diverging": [
                        [
                          0,
                          "#8e0152"
                        ],
                        [
                          0.1,
                          "#c51b7d"
                        ],
                        [
                          0.2,
                          "#de77ae"
                        ],
                        [
                          0.3,
                          "#f1b6da"
                        ],
                        [
                          0.4,
                          "#fde0ef"
                        ],
                        [
                          0.5,
                          "#f7f7f7"
                        ],
                        [
                          0.6,
                          "#e6f5d0"
                        ],
                        [
                          0.7,
                          "#b8e186"
                        ],
                        [
                          0.8,
                          "#7fbc41"
                        ],
                        [
                          0.9,
                          "#4d9221"
                        ],
                        [
                          1,
                          "#276419"
                        ]
                      ],
                      "sequential": [
                        [
                          0,
                          "#0d0887"
                        ],
                        [
                          0.1111111111111111,
                          "#46039f"
                        ],
                        [
                          0.2222222222222222,
                          "#7201a8"
                        ],
                        [
                          0.3333333333333333,
                          "#9c179e"
                        ],
                        [
                          0.4444444444444444,
                          "#bd3786"
                        ],
                        [
                          0.5555555555555556,
                          "#d8576b"
                        ],
                        [
                          0.6666666666666666,
                          "#ed7953"
                        ],
                        [
                          0.7777777777777778,
                          "#fb9f3a"
                        ],
                        [
                          0.8888888888888888,
                          "#fdca26"
                        ],
                        [
                          1,
                          "#f0f921"
                        ]
                      ],
                      "sequentialminus": [
                        [
                          0,
                          "#0d0887"
                        ],
                        [
                          0.1111111111111111,
                          "#46039f"
                        ],
                        [
                          0.2222222222222222,
                          "#7201a8"
                        ],
                        [
                          0.3333333333333333,
                          "#9c179e"
                        ],
                        [
                          0.4444444444444444,
                          "#bd3786"
                        ],
                        [
                          0.5555555555555556,
                          "#d8576b"
                        ],
                        [
                          0.6666666666666666,
                          "#ed7953"
                        ],
                        [
                          0.7777777777777778,
                          "#fb9f3a"
                        ],
                        [
                          0.8888888888888888,
                          "#fdca26"
                        ],
                        [
                          1,
                          "#f0f921"
                        ]
                      ]
                    },
                    "colorway": [
                      "#636efa",
                      "#EF553B",
                      "#00cc96",
                      "#ab63fa",
                      "#FFA15A",
                      "#19d3f3",
                      "#FF6692",
                      "#B6E880",
                      "#FF97FF",
                      "#FECB52"
                    ],
                    "font": {
                      "color": "#2a3f5f"
                    },
                    "geo": {
                      "bgcolor": "white",
                      "lakecolor": "white",
                      "landcolor": "#E5ECF6",
                      "showlakes": true,
                      "showland": true,
                      "subunitcolor": "white"
                    },
                    "hoverlabel": {
                      "align": "left"
                    },
                    "hovermode": "closest",
                    "mapbox": {
                      "style": "light"
                    },
                    "paper_bgcolor": "white",
                    "plot_bgcolor": "#E5ECF6",
                    "polar": {
                      "angularaxis": {
                        "gridcolor": "white",
                        "linecolor": "white",
                        "ticks": ""
                      },
                      "bgcolor": "#E5ECF6",
                      "radialaxis": {
                        "gridcolor": "white",
                        "linecolor": "white",
                        "ticks": ""
                      }
                    },
                    "scene": {
                      "xaxis": {
                        "backgroundcolor": "#E5ECF6",
                        "gridcolor": "white",
                        "gridwidth": 2,
                        "linecolor": "white",
                        "showbackground": true,
                        "ticks": "",
                        "zerolinecolor": "white"
                      },
                      "yaxis": {
                        "backgroundcolor": "#E5ECF6",
                        "gridcolor": "white",
                        "gridwidth": 2,
                        "linecolor": "white",
                        "showbackground": true,
                        "ticks": "",
                        "zerolinecolor": "white"
                      },
                      "zaxis": {
                        "backgroundcolor": "#E5ECF6",
                        "gridcolor": "white",
                        "gridwidth": 2,
                        "linecolor": "white",
                        "showbackground": true,
                        "ticks": "",
                        "zerolinecolor": "white"
                      }
                    },
                    "shapedefaults": {
                      "line": {
                        "color": "#2a3f5f"
                      }
                    },
                    "ternary": {
                      "aaxis": {
                        "gridcolor": "white",
                        "linecolor": "white",
                        "ticks": ""
                      },
                      "baxis": {
                        "gridcolor": "white",
                        "linecolor": "white",
                        "ticks": ""
                      },
                      "bgcolor": "#E5ECF6",
                      "caxis": {
                        "gridcolor": "white",
                        "linecolor": "white",
                        "ticks": ""
                      }
                    },
                    "title": {
                      "x": 0.05
                    },
                    "xaxis": {
                      "automargin": true,
                      "gridcolor": "white",
                      "linecolor": "white",
                      "ticks": "",
                      "title": {
                        "standoff": 15
                      },
                      "zerolinecolor": "white",
                      "zerolinewidth": 2
                    },
                    "yaxis": {
                      "automargin": true,
                      "gridcolor": "white",
                      "linecolor": "white",
                      "ticks": "",
                      "title": {
                        "standoff": 15
                      },
                      "zerolinecolor": "white",
                      "zerolinewidth": 2
                    }
                  }
                },
                "width": 1200
              }
            }
          },
          "metadata": {},
          "output_type": "display_data"
        }
      ],
      "source": [
        "import plotly.express as px\n",
        "kmeans = KMeans(\n",
        "        n_clusters=3, init=\"k-means++\",\n",
        "        n_init=10,\n",
        "        tol=1e-04, random_state=42\n",
        "    )\n",
        "kmeans.fit(X)\n",
        "\n",
        "\n",
        "clusters=pd.DataFrame(X,columns=survey_data_with_clusters.columns)\n",
        "clusters['label']=kmeans.labels_\n",
        "polar=clusters.groupby(\"label\").mean().reset_index()\n",
        "polar=pd.melt(polar,id_vars=[\"label\"])\n",
        "fig4 = px.line_polar(polar, r=\"value\", theta=\"variable\", color=\"label\", line_close=True,height=600,width=1200)\n",
        "fig4.show()"
      ]
    },
    {
      "cell_type": "code",
      "execution_count": null,
      "metadata": {},
      "outputs": [],
      "source": []
    }
  ],
  "metadata": {
    "colab": {
      "provenance": []
    },
    "kernelspec": {
      "display_name": "Python 3",
      "name": "python3"
    },
    "language_info": {
      "codemirror_mode": {
        "name": "ipython",
        "version": 3
      },
      "file_extension": ".py",
      "mimetype": "text/x-python",
      "name": "python",
      "nbconvert_exporter": "python",
      "pygments_lexer": "ipython3",
      "version": "3.10.13"
    }
  },
  "nbformat": 4,
  "nbformat_minor": 0
}
